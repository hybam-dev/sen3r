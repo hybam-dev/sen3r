{
 "cells": [
  {
   "cell_type": "code",
   "execution_count": 1,
   "metadata": {},
   "outputs": [],
   "source": [
    "%load_ext autoreload\n",
    "%autoreload 2\n",
    "\n",
    "from sen3r.sen3r import Core\n",
    "from sen3r.nc_engine import NcEngine\n",
    "from sen3r.commons import Utils, Footprinter\n",
    "from pathlib import Path\n",
    "\n",
    "fp = Footprinter()"
   ]
  },
  {
   "cell_type": "markdown",
   "metadata": {},
   "source": [
    "## Running SEN3R with a single WFR image"
   ]
  },
  {
   "cell_type": "code",
   "execution_count": null,
   "metadata": {},
   "outputs": [],
   "source": [
    "# TESTING SINGLE IMAGE PROCESSING\n",
    "args = {}\n",
    "\n",
    "args['input'] = Path('D:/S3/sen3r_wfr_test/S3A_OL_2_WFR____20160522T134229_20160522T134429_20171031T210832_0119_004_238______MR1_R_NT_002.SEN3')\n",
    "args['out'] = Path('D:/sen3r_out/')\n",
    "args['roi'] = Path('D:/A1_JM/areas/paper_areas/14100000_manacapuru.geojson')\n",
    "args['product'] = 'wfr'\n",
    "args"
   ]
  },
  {
   "cell_type": "code",
   "execution_count": null,
   "metadata": {},
   "outputs": [],
   "source": [
    "s3r = Core(args)"
   ]
  },
  {
   "cell_type": "code",
   "execution_count": null,
   "metadata": {},
   "outputs": [],
   "source": [
    "%%time\n",
    "band_data, img_data, doneList = s3r.build_single_file()"
   ]
  },
  {
   "cell_type": "markdown",
   "metadata": {
    "tags": []
   },
   "source": [
    "## For a folder of WFR images"
   ]
  },
  {
   "cell_type": "code",
   "execution_count": null,
   "metadata": {},
   "outputs": [],
   "source": [
    "mt_args = {}\n",
    "\n",
    "mt_args['input'] = Path('D:/S3/sen3r_wfr_test/')\n",
    "mt_args['out'] = Path('D:/sen3r_out/')\n",
    "mt_args['roi'] = Path('D:/A1_JM/areas/paper_areas/14100000_manacapuru.geojson')\n",
    "mt_args['product'] = 'wfr'\n",
    "mt_args\n",
    "\n",
    "s3r = Core(mt_args)"
   ]
  },
  {
   "cell_type": "code",
   "execution_count": null,
   "metadata": {},
   "outputs": [],
   "source": [
    "%%time\n",
    "doneList = s3r.build_intermediary_files()"
   ]
  },
  {
   "cell_type": "code",
   "execution_count": null,
   "metadata": {},
   "outputs": [],
   "source": [
    "doneList"
   ]
  },
  {
   "cell_type": "markdown",
   "metadata": {},
   "source": [
    "### OGR GML to SHP"
   ]
  },
  {
   "cell_type": "code",
   "execution_count": 2,
   "metadata": {},
   "outputs": [],
   "source": [
    "# Read the xfdumanifest.xml from the Sentinel-3 image\n",
    "s3_xml_manifest = Path(\"D:/S3/sen3r_wfr_test/S3A_OL_2_WFR____20160522T134229_20160522T134429_20171031T210832_0119_004_238______MR1_R_NT_002.SEN3/xfdumanifest.xml\")"
   ]
  },
  {
   "cell_type": "code",
   "execution_count": 3,
   "metadata": {},
   "outputs": [],
   "source": [
    "# This will create a .gml and a .shp file from the xfdumanifest.xml\n",
    "xmldict = fp.manifest2shp(s3_xml_manifest,\"D:\\\\sen3r_out\\\\footprint\")"
   ]
  },
  {
   "cell_type": "code",
   "execution_count": 4,
   "metadata": {},
   "outputs": [],
   "source": [
    "# Test if a user ROI touches the image footprint\n",
    "foot = 'D:/sen3r_out/footprint.shp'\n",
    "# roi = 'D:/A1_JM/areas/paper_areas/shp/12350000_fonte_boa.shp'\n",
    "# roi = 'D:/A1_JM/areas/paper_areas/shp/12900001_tefe.shp'\n",
    "# roi = 'D:/A1_JM/areas/paper_areas/shp/13100090_coari.shp'\n",
    "# roi = 'D:/A1_JM/areas/paper_areas/shp/14100000_manacapuru.shp'\n",
    "# roi = 'D:/A1_JM/areas/paper_areas/shp/14910000_negro.shp'\n",
    "# roi = 'D:/A1_JM/areas/paper_areas/shp/15860000_borba_madeira.shp'\n",
    "# roi = 'D:/A1_JM/areas/paper_areas/shp/16030000_itacoatiara.shp'\n",
    "roi = 'D:/A1_JM/areas/paper_areas/shp/17050001_obidos.shp'"
   ]
  },
  {
   "cell_type": "code",
   "execution_count": 5,
   "metadata": {},
   "outputs": [
    {
     "data": {
      "text/plain": [
       "False"
      ]
     },
     "execution_count": 5,
     "metadata": {},
     "output_type": "execute_result"
    }
   ],
   "source": [
    "fp.touch_test(footprint_shp=foot, roi_shp=roi)"
   ]
  },
  {
   "cell_type": "code",
   "execution_count": null,
   "metadata": {},
   "outputs": [],
   "source": []
  }
 ],
 "metadata": {
  "kernelspec": {
   "display_name": "Python 3 (ipykernel)",
   "language": "python",
   "name": "python3"
  },
  "language_info": {
   "codemirror_mode": {
    "name": "ipython",
    "version": 3
   },
   "file_extension": ".py",
   "mimetype": "text/x-python",
   "name": "python",
   "nbconvert_exporter": "python",
   "pygments_lexer": "ipython3",
   "version": "3.9.7"
  }
 },
 "nbformat": 4,
 "nbformat_minor": 4
}
