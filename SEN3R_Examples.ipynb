{
 "cells": [
  {
   "cell_type": "code",
   "execution_count": 2,
   "metadata": {},
   "outputs": [],
   "source": [
    "%load_ext autoreload\n",
    "%autoreload 2\n",
    "\n",
    "import os\n",
    "import pandas as pd\n",
    "import numpy as np\n",
    "from pathlib import Path\n",
    "\n",
    "from sen3r.sen3r import Core\n",
    "from sen3r.nc_engine import NcEngine\n",
    "from sen3r.commons import Utils, Footprinter, DefaultDicts\n",
    "from sen3r.tsgen import TsGenerator\n",
    "from pathlib import Path\n",
    "\n",
    "dd = DefaultDicts()\n",
    "fp = Footprinter()\n",
    "tsg = TsGenerator()"
   ]
  },
  {
   "cell_type": "markdown",
   "metadata": {},
   "source": [
    "## Running SEN3R with a single WFR image"
   ]
  },
  {
   "cell_type": "code",
   "execution_count": null,
   "metadata": {},
   "outputs": [],
   "source": [
    "# TESTING SINGLE IMAGE PROCESSING\n",
    "args = {}\n",
    "\n",
    "args['input'] = Path('D:/S3/sen3r_wfr_test/S3A_OL_2_WFR____20160522T134229_20160522T134429_20171031T210832_0119_004_238______MR1_R_NT_002.SEN3')\n",
    "args['out'] = Path('D:/sen3r_out/')\n",
    "args['roi'] = Path('D:/A1_JM/areas/paper_areas/14100000_manacapuru.geojson')\n",
    "args['product'] = 'wfr'\n",
    "args"
   ]
  },
  {
   "cell_type": "code",
   "execution_count": null,
   "metadata": {},
   "outputs": [],
   "source": [
    "s3r = Core(args)"
   ]
  },
  {
   "cell_type": "code",
   "execution_count": null,
   "metadata": {},
   "outputs": [],
   "source": [
    "%%time\n",
    "band_data, img_data, doneList = s3r.build_single_file()"
   ]
  },
  {
   "cell_type": "markdown",
   "metadata": {
    "tags": []
   },
   "source": [
    "## For a folder of WFR images"
   ]
  },
  {
   "cell_type": "code",
   "execution_count": null,
   "metadata": {},
   "outputs": [],
   "source": [
    "mt_args = {}\n",
    "\n",
    "mt_args['input'] = Path('D:/S3/sen3r_wfr_test/')\n",
    "mt_args['out'] = Path('D:/sen3r_out/')\n",
    "mt_args['roi'] = Path('D:/A1_JM/areas/paper_areas/14100000_manacapuru.geojson')\n",
    "mt_args['product'] = 'wfr'\n",
    "mt_args\n",
    "\n",
    "s3r = Core(mt_args)"
   ]
  },
  {
   "cell_type": "code",
   "execution_count": null,
   "metadata": {},
   "outputs": [],
   "source": [
    "%%time\n",
    "doneList = s3r.build_intermediary_files()"
   ]
  },
  {
   "cell_type": "code",
   "execution_count": null,
   "metadata": {},
   "outputs": [],
   "source": [
    "doneList"
   ]
  },
  {
   "cell_type": "markdown",
   "metadata": {},
   "source": [
    "### OGR GML to SHP"
   ]
  },
  {
   "cell_type": "code",
   "execution_count": 2,
   "metadata": {},
   "outputs": [],
   "source": [
    "# Read the xfdumanifest.xml from the Sentinel-3 image\n",
    "s3_xml_manifest = Path(\"D:/S3/sen3r_wfr_test/S3A_OL_2_WFR____20160522T134229_20160522T134429_20171031T210832_0119_004_238______MR1_R_NT_002.SEN3/xfdumanifest.xml\")"
   ]
  },
  {
   "cell_type": "code",
   "execution_count": 3,
   "metadata": {},
   "outputs": [],
   "source": [
    "# This will create a .gml and a .shp file from the xfdumanifest.xml\n",
    "xmldict = fp.manifest2shp(s3_xml_manifest,\"D:\\\\sen3r_out\\\\footprint\")"
   ]
  },
  {
   "cell_type": "code",
   "execution_count": 4,
   "metadata": {},
   "outputs": [],
   "source": [
    "# Test if a user ROI touches the image footprint\n",
    "foot = 'D:/sen3r_out/footprint.shp'\n",
    "# roi = 'D:/A1_JM/areas/paper_areas/shp/12350000_fonte_boa.shp'\n",
    "# roi = 'D:/A1_JM/areas/paper_areas/shp/12900001_tefe.shp'\n",
    "# roi = 'D:/A1_JM/areas/paper_areas/shp/13100090_coari.shp'\n",
    "# roi = 'D:/A1_JM/areas/paper_areas/shp/14100000_manacapuru.shp'\n",
    "# roi = 'D:/A1_JM/areas/paper_areas/shp/14910000_negro.shp'\n",
    "# roi = 'D:/A1_JM/areas/paper_areas/shp/15860000_borba_madeira.shp'\n",
    "# roi = 'D:/A1_JM/areas/paper_areas/shp/16030000_itacoatiara.shp'\n",
    "roi = 'D:/A1_JM/areas/paper_areas/shp/17050001_obidos.shp'"
   ]
  },
  {
   "cell_type": "code",
   "execution_count": 5,
   "metadata": {},
   "outputs": [
    {
     "data": {
      "text/plain": [
       "False"
      ]
     },
     "execution_count": 5,
     "metadata": {},
     "output_type": "execute_result"
    }
   ],
   "source": [
    "fp.touch_test(footprint_shp=foot, roi_shp=roi)"
   ]
  },
  {
   "cell_type": "code",
   "execution_count": 1,
   "metadata": {},
   "outputs": [],
   "source": [
    "## SEN3R internal plot functions"
   ]
  },
  {
   "cell_type": "code",
   "execution_count": 5,
   "metadata": {},
   "outputs": [],
   "source": [
    "csv_n1 = Path('d:/sen3r_out/CSV_N1/S3A_OL_2_WFR____20160522T134229_20160522T134429_20171031T210832_0119_004_238______MR1_R_NT_002.csv')\n",
    "csv_n2 = Path('d:/sen3r_out/CSV_N2/S3A_OL_2_WFR____20160522T134229_20160522T134429_20171031T210832_0119_004_238______MR1_R_NT_002.csv')\n",
    "\n",
    "df_n1 = pd.read_csv(csv_n1)\n",
    "df_n2 = pd.read_csv(csv_n2)"
   ]
  },
  {
   "cell_type": "code",
   "execution_count": 34,
   "metadata": {},
   "outputs": [],
   "source": [
    "csv_n1 = Path('d:/sen3r_out/CSV_N1/S3A_OL_2_WFR____20190630T134235_20190630T134535_20190701T223549_0179_046_238_3060_MAR_O_NT_002.csv')\n",
    "csv_n2 = Path('d:/sen3r_out/CSV_N2/S3A_OL_2_WFR____20190630T134235_20190630T134535_20190701T223549_0179_046_238_3060_MAR_O_NT_002.csv')\n",
    "\n",
    "df_n1 = pd.read_csv(csv_n1)\n",
    "df_n2 = pd.read_csv(csv_n2)"
   ]
  },
  {
   "cell_type": "code",
   "execution_count": 35,
   "metadata": {},
   "outputs": [],
   "source": [
    "tsg.imgdpi=300\n",
    "figname = '20190630T134235'"
   ]
  },
  {
   "cell_type": "code",
   "execution_count": 36,
   "metadata": {},
   "outputs": [],
   "source": [
    "tsg.s3l2_custom_reflectance_plot(df=df_n1,\n",
    "                                 figure_title=f'{figname}\\n',\n",
    "                                 c_lbl='Aer. Optical Thickness (T865)',\n",
    "                                 save_title='D:/sen3r_out/IMG/20190630T134235_2_raw.png'\n",
    "                                )"
   ]
  },
  {
   "cell_type": "code",
   "execution_count": 37,
   "metadata": {},
   "outputs": [],
   "source": [
    "tsg.s3l2_custom_reflectance_plot(df=df_n2,\n",
    "                                 figure_title=f'{figname}\\n',\n",
    "                                 c_lbl='Aer. Optical Thickness (T865)',\n",
    "                                 save_title='D:/sen3r_out/IMG/20190630T134235_2_no_clustering.png'\n",
    "                                )"
   ]
  },
  {
   "cell_type": "code",
   "execution_count": 38,
   "metadata": {},
   "outputs": [],
   "source": [
    "# Apply DBSCAN\n",
    "tsg.db_scan(df_n2, dd.clustering_methods['M4'])\n",
    "\n",
    "# Delete rows classified as noise:\n",
    "indexNames = df_n2[df_n2['cluster'] == -1].index\n",
    "df_n2.drop(indexNames, inplace=True)\n",
    "\n",
    "if len(df_n2) > 1:\n",
    "    clusters = df_n2.groupby(by='cluster').median()\n",
    "    k = Utils.find_nearest(clusters['Oa21_reflectance:float'], 0)\n",
    "    # Delete rows from the other clusters:\n",
    "    indexNames = df_n2[df_n2['cluster'] != k].index\n",
    "    df_n2.drop(indexNames, inplace=True)"
   ]
  },
  {
   "cell_type": "code",
   "execution_count": 39,
   "metadata": {},
   "outputs": [],
   "source": [
    "tsg.s3l2_custom_reflectance_plot(df=df_n2,\n",
    "                                 figure_title=f'{figname}\\n',\n",
    "                                 c_lbl='Aer. Optical Thickness (T865)',\n",
    "                                 save_title='D:/sen3r_out/IMG/20190630T134235_2.png'\n",
    "                                )"
   ]
  },
  {
   "cell_type": "code",
   "execution_count": null,
   "metadata": {},
   "outputs": [],
   "source": []
  },
  {
   "cell_type": "code",
   "execution_count": null,
   "metadata": {},
   "outputs": [],
   "source": []
  },
  {
   "cell_type": "code",
   "execution_count": null,
   "metadata": {},
   "outputs": [],
   "source": []
  },
  {
   "cell_type": "code",
   "execution_count": null,
   "metadata": {},
   "outputs": [],
   "source": [
    "import openpyxl\n",
    "\n",
    "workbook = openpyxl.load_workbook('D:/sen3r_out/sen3r.xlsx')\n",
    "worksheet = workbook['wfr']\n",
    "\n",
    "## Create a dictionary of column names\n",
    "ColNames = {}\n",
    "Current  = 0\n",
    "for COL in worksheet.iter_cols(1, worksheet.max_column):\n",
    "    ColNames[COL[0].value] = Current\n",
    "    Current += 1\n",
    "\n",
    "ColNames\n",
    "## Now you can access by column name\n",
    "## (My data has a column named 'Dogs')\n",
    "# for row_cells in worksheet.iter_rows(min_row=1, max_row=4):\n",
    "#     print(row_cells[ColNames['Dogs']].value)"
   ]
  },
  {
   "cell_type": "code",
   "execution_count": 108,
   "metadata": {},
   "outputs": [
    {
     "data": {
      "text/plain": [
       "41"
      ]
     },
     "execution_count": 108,
     "metadata": {},
     "output_type": "execute_result"
    }
   ],
   "source": [
    "ColNames['Quality']"
   ]
  },
  {
   "cell_type": "code",
   "execution_count": null,
   "metadata": {},
   "outputs": [],
   "source": []
  }
 ],
 "metadata": {
  "kernelspec": {
   "display_name": "Python 3 (ipykernel)",
   "language": "python",
   "name": "python3"
  },
  "language_info": {
   "codemirror_mode": {
    "name": "ipython",
    "version": 3
   },
   "file_extension": ".py",
   "mimetype": "text/x-python",
   "name": "python",
   "nbconvert_exporter": "python",
   "pygments_lexer": "ipython3",
   "version": "3.9.7"
  }
 },
 "nbformat": 4,
 "nbformat_minor": 4
}
