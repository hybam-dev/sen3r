{
 "cells": [
  {
   "cell_type": "code",
   "execution_count": 4,
   "metadata": {},
   "outputs": [],
   "source": [
    "import os\n",
    "import sys\n",
    "\n",
    "import numpy as np\n",
    "import pandas as pd\n",
    "import matplotlib.pyplot as plt\n",
    "\n",
    "from pathlib import Path\n",
    "from matplotlib import gridspec\n",
    "\n",
    "from scipy import stats\n",
    "from scipy.signal import argrelextrema"
   ]
  },
  {
   "cell_type": "code",
   "execution_count": null,
   "metadata": {},
   "outputs": [],
   "source": [
    "workdir = 'D:\\processing\\win\\MANACAPURUv6ndLOWRW'\n",
    "img = 'S3A_OL_2_WFR____20191104T135002_20191104T135302_20191124T134508_0179_051_124_3060_MAR_O_NT_002_subset.txt'\n",
    "fullpath = os.path.join(workdir,img)\n",
    "df = pd.read_csv(fullpath)"
   ]
  },
  {
   "cell_type": "code",
   "execution_count": 6,
   "metadata": {},
   "outputs": [],
   "source": [
    "workdir = Path('D:/processing/linux/14100000_manacapuru_v15')\n",
    "img = 'S3A_OL_2_WFR____20191104T135002_20191104T135302_20191124T134508_0179_051_124_3060_MAR_O_NT_002.csv'\n",
    "fullpath = Path(workdir/img)\n",
    "df = pd.read_csv(fullpath)"
   ]
  },
  {
   "cell_type": "code",
   "execution_count": 9,
   "metadata": {},
   "outputs": [
    {
     "data": {
      "text/plain": [
       "<matplotlib.collections.PathCollection at 0x1f42f89a710>"
      ]
     },
     "execution_count": 9,
     "metadata": {},
     "output_type": "execute_result"
    },
    {
     "data": {
      "image/png": "[encoded data removed]",
      "text/plain": [
       "<Figure size 432x288 with 1 Axes>"
      ]
     },
     "metadata": {
      "needs_background": "light"
     },
     "output_type": "display_data"
    }
   ],
   "source": [
    "plt.scatter(df['longitude:double'], df['latitude:double'])"
   ]
  },
  {
   "cell_type": "code",
   "execution_count": 10,
   "metadata": {},
   "outputs": [
    {
     "data": {
      "text/plain": [
       "pandas.core.series.Series"
      ]
     },
     "execution_count": 10,
     "metadata": {},
     "output_type": "execute_result"
    }
   ],
   "source": [
    "x = df['Oa08_reflectance:float'].copy()\n",
    "type(x)"
   ]
  },
  {
   "cell_type": "code",
   "execution_count": 11,
   "metadata": {},
   "outputs": [],
   "source": [
    "kernel = stats.gaussian_kde(dataset=x,bw_method='silverman')"
   ]
  },
  {
   "cell_type": "code",
   "execution_count": 12,
   "metadata": {},
   "outputs": [],
   "source": [
    "kde_res = kernel(x)"
   ]
  },
  {
   "cell_type": "code",
   "execution_count": 13,
   "metadata": {},
   "outputs": [],
   "source": [
    "xs, ys = zip(*sorted(zip(x, kde_res)))"
   ]
  },
  {
   "cell_type": "code",
   "execution_count": 14,
   "metadata": {},
   "outputs": [
    {
     "name": "stdout",
     "output_type": "stream",
     "text": [
      "[0.10645466 0.13989075]\n"
     ]
    }
   ],
   "source": [
    "xray = np.array(xs)\n",
    "yray = np.array(ys)\n",
    "\n",
    "ma = argrelextrema(yray, np.greater)[0]\n",
    "\n",
    "print(xray[ma])"
   ]
  },
  {
   "cell_type": "code",
   "execution_count": 15,
   "metadata": {},
   "outputs": [
    {
     "data": {
      "text/plain": [
       "[50, 339]"
      ]
     },
     "execution_count": 15,
     "metadata": {},
     "output_type": "execute_result"
    }
   ],
   "source": [
    "list(argrelextrema(yray, np.greater)[0])"
   ]
  },
  {
   "cell_type": "code",
   "execution_count": 16,
   "metadata": {},
   "outputs": [
    {
     "data": {
      "image/png": "[encoded data removed]",
      "text/plain": [
       "<Figure size 432x288 with 1 Axes>"
      ]
     },
     "metadata": {
      "needs_background": "light"
     },
     "output_type": "display_data"
    }
   ],
   "source": [
    "plt.plot(xray,yray)\n",
    "plt.plot(xray[ma],yray[ma],'or')\n",
    "plt.scatter(x,kde_res)\n",
    "plt.hist(x,100)\n",
    "\n",
    "for m in xray[ma]:\n",
    "    plt.axvline(m, color='red')"
   ]
  },
  {
   "cell_type": "code",
   "execution_count": 17,
   "metadata": {},
   "outputs": [],
   "source": [
    "def kde_local_maxima(x):\n",
    "    \n",
    "    if x > 1:\n",
    "    \n",
    "        kernel = stats.gaussian_kde(dataset=x,bw_method='silverman')\n",
    "\n",
    "        kde_res = kernel(x)\n",
    "\n",
    "        xs, ys = zip(*sorted(zip(x, kde_res)))\n",
    "\n",
    "        xray = np.array(xs)\n",
    "        yray = np.array(ys)\n",
    "\n",
    "        ma = argrelextrema(yray, np.greater)[0]\n",
    "        peak_position = list(ma)\n",
    "        return peak_position,xray,yray,kde_res"
   ]
  },
  {
   "cell_type": "code",
   "execution_count": 18,
   "metadata": {},
   "outputs": [],
   "source": [
    "def plot_kde_hist(title,xray,yray,x,kde_res,pk,svpath_n_title=None):\n",
    "    plt.rcParams['figure.figsize'] = [16, 6]\n",
    "    fig = plt.figure()\n",
    "    gs = gridspec.GridSpec(1, 2, width_ratios=[3, 1])\n",
    "    ax = fig.add_subplot(gs[0])\n",
    "    #ax = plt.axes()\n",
    "    ax.set_title(title, fontsize=16)\n",
    "\n",
    "\n",
    "    ax.plot(xray,yray,color='k',label='Fitted KDE',zorder=11)\n",
    "    ax.plot(xray[pk],yray[pk],'or',zorder=11,label='KDE Local Maxima')\n",
    "    ax.hist(x,100,color='lightblue',label='Histogram')\n",
    "    ax.scatter(x,kde_res,zorder=10,marker='x',label='Observations')\n",
    "\n",
    "    ax.set_xlabel('Reflectance - Oa08:665nm', fontsize=16)\n",
    "    ax.set_ylabel('Frequency', fontsize=16)\n",
    "    \n",
    "    # Get the mean\n",
    "    ax.axvline(x.mean(), color='g', label='Mean')\n",
    "    # Get the std. dev.\n",
    "    ax.axvline(x=np.mean(x)-np.std(x), ls = \"--\", color='g', alpha=0.7,label='Std.Deviation')\n",
    "    ax.axvline(x=np.mean(x)+np.std(x), ls = \"--\", color='g', alpha=0.7)\n",
    "    \n",
    "    ax.legend()\n",
    "    \n",
    "    for m in xray[pk]:\n",
    "        ax.axvline(m, color='r')\n",
    "    \n",
    "    ax2 = fig.add_subplot(gs[1])\n",
    "    \n",
    "    cv = (np.std(x)/np.mean(x))*100\n",
    "    cv = round(cv,6)\n",
    "    \n",
    "    table_data=[\n",
    "        [\"Mean\", round(np.mean(x),6)],\n",
    "        [\"Std. Deviation\", round(np.std(x),6)],\n",
    "        [\"KDE Local max.\", str(xray[pk])],\n",
    "        [\"Coeff. of variation\", str(round(cv,2))+'%']\n",
    "    ]\n",
    "\n",
    "    table = ax2.table(cellText=table_data, loc='center')\n",
    "    table.set_fontsize(10)\n",
    "    table.scale(1,2)\n",
    "    ax2.axis('off')\n",
    "    \n",
    "    if svpath_n_title:\n",
    "        plt.savefig(svpath_n_title, dpi=300)\n",
    "        plt.close(fig)\n",
    "    \n",
    "    if not svpath_n_title:\n",
    "        plt.show()"
   ]
  },
  {
   "cell_type": "code",
   "execution_count": 5,
   "metadata": {},
   "outputs": [
    {
     "name": "stdout",
     "output_type": "stream",
     "text": [
      "S3A_OL_2_WFR____20160502T140055_20160502T140255_20171031T025227_0119_003_338______MR1_R_NT_002_subset.txt\n",
      "\n",
      "D:\\processing\\win\\MANACAPURUv8\\S3A_OL_2_WFR____20160502T140055_20160502T140255_20171031T025227_0119_003_338______MR1_R_NT_002_subset.txt\n"
     ]
    }
   ],
   "source": [
    "import time\n",
    "\n",
    "sys.path.append('../')\n",
    "from tsgen import TsGenerator\n",
    "tsgen = TsGenerator()\n",
    "\n",
    "# in_dir = 'D:\\\\S3\\\\L2_WFR_subset\\\\MANACAPURU'\n",
    "in_dir = 'D:\\\\processing\\\\win\\\\MANACAPURUv8'\n",
    "img_dir = 'D:\\\\processing\\\\win\\\\a1_plots\\\\MANACAPURU_hist'\n",
    "\n",
    "todo = tsgen.build_list_from_subset(in_dir)\n",
    "todo_fullpath = [os.path.join(in_dir,csv) for csv in todo]\n",
    "print(f'{todo[0]}\\n\\n{todo_fullpath[0]}')"
   ]
  },
  {
   "cell_type": "code",
   "execution_count": 7,
   "metadata": {},
   "outputs": [
    {
     "data": {
      "text/html": [
       "<div>\n",
       "<style scoped>\n",
       "    .dataframe tbody tr th:only-of-type {\n",
       "        vertical-align: middle;\n",
       "    }\n",
       "\n",
       "    .dataframe tbody tr th {\n",
       "        vertical-align: top;\n",
       "    }\n",
       "\n",
       "    .dataframe thead th {\n",
       "        text-align: right;\n",
       "    }\n",
       "</style>\n",
       "<table border=\"1\" class=\"dataframe\">\n",
       "  <thead>\n",
       "    <tr style=\"text-align: right;\">\n",
       "      <th></th>\n",
       "      <th>Unnamed: 0</th>\n",
       "      <th>featureId</th>\n",
       "      <th>Oa01_reflectance:float</th>\n",
       "      <th>Oa01_reflectance_err:float</th>\n",
       "      <th>Oa02_reflectance:float</th>\n",
       "      <th>Oa02_reflectance_err:float</th>\n",
       "      <th>Oa03_reflectance:float</th>\n",
       "      <th>Oa03_reflectance_err:float</th>\n",
       "      <th>Oa04_reflectance:float</th>\n",
       "      <th>Oa04_reflectance_err:float</th>\n",
       "      <th>...</th>\n",
       "      <th>atmospheric_temperature_profile_pressure_level_21:float</th>\n",
       "      <th>atmospheric_temperature_profile_pressure_level_22:float</th>\n",
       "      <th>atmospheric_temperature_profile_pressure_level_23:float</th>\n",
       "      <th>atmospheric_temperature_profile_pressure_level_24:float</th>\n",
       "      <th>atmospheric_temperature_profile_pressure_level_25:float</th>\n",
       "      <th>total_columnar_water_vapour:float</th>\n",
       "      <th>PCTVLDPX</th>\n",
       "      <th>FLAGS</th>\n",
       "      <th>QUALITY</th>\n",
       "      <th>GLINT</th>\n",
       "    </tr>\n",
       "  </thead>\n",
       "  <tbody>\n",
       "    <tr>\n",
       "      <th>0</th>\n",
       "      <td>0</td>\n",
       "      <td>59529</td>\n",
       "      <td>0.015448</td>\n",
       "      <td>0.000397</td>\n",
       "      <td>0.014240</td>\n",
       "      <td>0.000342</td>\n",
       "      <td>0.017170</td>\n",
       "      <td>0.000269</td>\n",
       "      <td>0.022901</td>\n",
       "      <td>0.000195</td>\n",
       "      <td>...</td>\n",
       "      <td>239.08107</td>\n",
       "      <td>246.70908</td>\n",
       "      <td>256.60333</td>\n",
       "      <td>263.43457</td>\n",
       "      <td>262.93570</td>\n",
       "      <td>61.029194</td>\n",
       "      <td>3912</td>\n",
       "      <td>['LAND', 'INLAND_WATER', 'OCNN_FAIL', 'BPAC_ON...</td>\n",
       "      <td>1</td>\n",
       "      <td>37.518507</td>\n",
       "    </tr>\n",
       "    <tr>\n",
       "      <th>1</th>\n",
       "      <td>1</td>\n",
       "      <td>59534</td>\n",
       "      <td>0.039637</td>\n",
       "      <td>0.000470</td>\n",
       "      <td>0.039308</td>\n",
       "      <td>0.000415</td>\n",
       "      <td>0.043043</td>\n",
       "      <td>0.000323</td>\n",
       "      <td>0.048134</td>\n",
       "      <td>0.000232</td>\n",
       "      <td>...</td>\n",
       "      <td>239.05920</td>\n",
       "      <td>246.74329</td>\n",
       "      <td>256.59976</td>\n",
       "      <td>263.41656</td>\n",
       "      <td>262.94507</td>\n",
       "      <td>60.930477</td>\n",
       "      <td>3912</td>\n",
       "      <td>['LAND', 'INLAND_WATER', 'BPAC_ON', 'HIGHRW']</td>\n",
       "      <td>1</td>\n",
       "      <td>37.431450</td>\n",
       "    </tr>\n",
       "    <tr>\n",
       "      <th>2</th>\n",
       "      <td>2</td>\n",
       "      <td>59880</td>\n",
       "      <td>0.012995</td>\n",
       "      <td>0.000525</td>\n",
       "      <td>0.012116</td>\n",
       "      <td>0.000470</td>\n",
       "      <td>0.016950</td>\n",
       "      <td>0.000360</td>\n",
       "      <td>0.026856</td>\n",
       "      <td>0.000250</td>\n",
       "      <td>...</td>\n",
       "      <td>239.08694</td>\n",
       "      <td>246.69496</td>\n",
       "      <td>256.60507</td>\n",
       "      <td>263.43747</td>\n",
       "      <td>262.93497</td>\n",
       "      <td>61.053078</td>\n",
       "      <td>3912</td>\n",
       "      <td>['LAND', 'INLAND_WATER', 'WV_FAIL', 'OCNN_FAIL...</td>\n",
       "      <td>1</td>\n",
       "      <td>37.537609</td>\n",
       "    </tr>\n",
       "    <tr>\n",
       "      <th>3</th>\n",
       "      <td>3</td>\n",
       "      <td>59881</td>\n",
       "      <td>0.024256</td>\n",
       "      <td>0.000433</td>\n",
       "      <td>0.023853</td>\n",
       "      <td>0.000378</td>\n",
       "      <td>0.025922</td>\n",
       "      <td>0.000287</td>\n",
       "      <td>0.031379</td>\n",
       "      <td>0.000195</td>\n",
       "      <td>...</td>\n",
       "      <td>239.08260</td>\n",
       "      <td>246.70174</td>\n",
       "      <td>256.60428</td>\n",
       "      <td>263.43390</td>\n",
       "      <td>262.93683</td>\n",
       "      <td>61.033660</td>\n",
       "      <td>3912</td>\n",
       "      <td>['LAND', 'INLAND_WATER', 'OCNN_FAIL', 'BPAC_ON...</td>\n",
       "      <td>1</td>\n",
       "      <td>37.520179</td>\n",
       "    </tr>\n",
       "    <tr>\n",
       "      <th>4</th>\n",
       "      <td>4</td>\n",
       "      <td>59882</td>\n",
       "      <td>0.001788</td>\n",
       "      <td>0.000909</td>\n",
       "      <td>0.001697</td>\n",
       "      <td>0.000873</td>\n",
       "      <td>0.005451</td>\n",
       "      <td>0.000745</td>\n",
       "      <td>0.012683</td>\n",
       "      <td>0.000580</td>\n",
       "      <td>...</td>\n",
       "      <td>239.07825</td>\n",
       "      <td>246.70851</td>\n",
       "      <td>256.60352</td>\n",
       "      <td>263.43036</td>\n",
       "      <td>262.93870</td>\n",
       "      <td>61.014244</td>\n",
       "      <td>3912</td>\n",
       "      <td>['LAND', 'INLAND_WATER', 'OC4ME_FAIL', 'OCNN_F...</td>\n",
       "      <td>1</td>\n",
       "      <td>37.502761</td>\n",
       "    </tr>\n",
       "  </tbody>\n",
       "</table>\n",
       "<p>5 rows × 163 columns</p>\n",
       "</div>"
      ],
      "text/plain": [
       "   Unnamed: 0  featureId  Oa01_reflectance:float  Oa01_reflectance_err:float  \\\n",
       "0           0      59529                0.015448                    0.000397   \n",
       "1           1      59534                0.039637                    0.000470   \n",
       "2           2      59880                0.012995                    0.000525   \n",
       "3           3      59881                0.024256                    0.000433   \n",
       "4           4      59882                0.001788                    0.000909   \n",
       "\n",
       "   Oa02_reflectance:float  Oa02_reflectance_err:float  Oa03_reflectance:float  \\\n",
       "0                0.014240                    0.000342                0.017170   \n",
       "1                0.039308                    0.000415                0.043043   \n",
       "2                0.012116                    0.000470                0.016950   \n",
       "3                0.023853                    0.000378                0.025922   \n",
       "4                0.001697                    0.000873                0.005451   \n",
       "\n",
       "   Oa03_reflectance_err:float  Oa04_reflectance:float  \\\n",
       "0                    0.000269                0.022901   \n",
       "1                    0.000323                0.048134   \n",
       "2                    0.000360                0.026856   \n",
       "3                    0.000287                0.031379   \n",
       "4                    0.000745                0.012683   \n",
       "\n",
       "   Oa04_reflectance_err:float  ...  \\\n",
       "0                    0.000195  ...   \n",
       "1                    0.000232  ...   \n",
       "2                    0.000250  ...   \n",
       "3                    0.000195  ...   \n",
       "4                    0.000580  ...   \n",
       "\n",
       "   atmospheric_temperature_profile_pressure_level_21:float  \\\n",
       "0                                          239.08107         \n",
       "1                                          239.05920         \n",
       "2                                          239.08694         \n",
       "3                                          239.08260         \n",
       "4                                          239.07825         \n",
       "\n",
       "   atmospheric_temperature_profile_pressure_level_22:float  \\\n",
       "0                                          246.70908         \n",
       "1                                          246.74329         \n",
       "2                                          246.69496         \n",
       "3                                          246.70174         \n",
       "4                                          246.70851         \n",
       "\n",
       "   atmospheric_temperature_profile_pressure_level_23:float  \\\n",
       "0                                          256.60333         \n",
       "1                                          256.59976         \n",
       "2                                          256.60507         \n",
       "3                                          256.60428         \n",
       "4                                          256.60352         \n",
       "\n",
       "   atmospheric_temperature_profile_pressure_level_24:float  \\\n",
       "0                                          263.43457         \n",
       "1                                          263.41656         \n",
       "2                                          263.43747         \n",
       "3                                          263.43390         \n",
       "4                                          263.43036         \n",
       "\n",
       "   atmospheric_temperature_profile_pressure_level_25:float  \\\n",
       "0                                          262.93570         \n",
       "1                                          262.94507         \n",
       "2                                          262.93497         \n",
       "3                                          262.93683         \n",
       "4                                          262.93870         \n",
       "\n",
       "   total_columnar_water_vapour:float  PCTVLDPX  \\\n",
       "0                          61.029194      3912   \n",
       "1                          60.930477      3912   \n",
       "2                          61.053078      3912   \n",
       "3                          61.033660      3912   \n",
       "4                          61.014244      3912   \n",
       "\n",
       "                                               FLAGS  QUALITY      GLINT  \n",
       "0  ['LAND', 'INLAND_WATER', 'OCNN_FAIL', 'BPAC_ON...        1  37.518507  \n",
       "1      ['LAND', 'INLAND_WATER', 'BPAC_ON', 'HIGHRW']        1  37.431450  \n",
       "2  ['LAND', 'INLAND_WATER', 'WV_FAIL', 'OCNN_FAIL...        1  37.537609  \n",
       "3  ['LAND', 'INLAND_WATER', 'OCNN_FAIL', 'BPAC_ON...        1  37.520179  \n",
       "4  ['LAND', 'INLAND_WATER', 'OC4ME_FAIL', 'OCNN_F...        1  37.502761  \n",
       "\n",
       "[5 rows x 163 columns]"
      ]
     },
     "execution_count": 7,
     "metadata": {},
     "output_type": "execute_result"
    }
   ],
   "source": [
    "df = pd.read_csv(todo_fullpath[0])\n",
    "df.head()"
   ]
  },
  {
   "cell_type": "code",
   "execution_count": 248,
   "metadata": {},
   "outputs": [],
   "source": [
    "# workdir = 'D:\\processing\\win\\MANACAPURUv6ndLOWRW'\n",
    "\n",
    "x = df['Oa08_reflectance:float'].copy()\n",
    "\n",
    "pk,xray,yray,kde_res = tsgen.kde_local_maxima(x)\n",
    "\n",
    "title = os.path.basename(todo_fullpath[0]).split('____')[1].split('_')[0]\n",
    "\n",
    "plot_kde_hist(title, xray, yray, x, kde_res, pk, 'D:\\\\processing\\\\teste.png')\n",
    "\n",
    "# 'D:\\\\processing\\\\teste.png'\n"
   ]
  },
  {
   "cell_type": "code",
   "execution_count": null,
   "metadata": {},
   "outputs": [],
   "source": [
    "t1 = time.perf_counter()\n",
    "\n",
    "total = len(todo_fullpath)\n",
    "for n,img in enumerate(todo_fullpath):\n",
    "    print(f'>>> Processing: {n+1} of {total} ... {img}')\n",
    "    \n",
    "    df = pd.read_csv(img, sep='\\t', skiprows=1)\n",
    "    \n",
    "    if len(df) < 3:\n",
    "        print(f'Skipping CSV for lack of samples:({len(df)}) {img}')\n",
    "        continue\n",
    "    \n",
    "    figdate = os.path.basename(img).split('____')[1].split('_')[0]\n",
    "    figtitl = 'MANACAPURU '+figdate\n",
    "    savpt = os.path.join(img_dir,figdate+'.png')\n",
    "    \n",
    "    x = df['Oa08_reflectance:float'].copy()\n",
    "    \n",
    "    pk,xray,yray,kde_res = kde_local_maxima(x)\n",
    "\n",
    "    print(f'Generating image: {savpt}')\n",
    "    svpath_n_title = savpt\n",
    "    \n",
    "    plot_kde_hist(figtitl,xray,yray,x,kde_res,pk,svpath_n_title)\n",
    "    \n",
    "t2 = time.perf_counter()\n",
    "print(f'>>> Finished in {round(t2 - t1, 2)} second(s). <<<')"
   ]
  },
  {
   "cell_type": "code",
   "execution_count": null,
   "metadata": {},
   "outputs": [],
   "source": []
  }
 ],
 "metadata": {
  "kernelspec": {
   "display_name": "Python 3",
   "language": "python",
   "name": "python3"
  },
  "language_info": {
   "codemirror_mode": {
    "name": "ipython",
    "version": 3
   },
   "file_extension": ".py",
   "mimetype": "text/x-python",
   "name": "python",
   "nbconvert_exporter": "python",
   "pygments_lexer": "ipython3",
   "version": "3.6.10"
  }
 },
 "nbformat": 4,
 "nbformat_minor": 4
}
