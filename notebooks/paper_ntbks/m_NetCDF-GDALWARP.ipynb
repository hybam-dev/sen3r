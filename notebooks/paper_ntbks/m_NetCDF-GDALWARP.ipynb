{
 "cells": [
  {
   "cell_type": "markdown",
   "metadata": {},
   "source": [
    "https://github.com/s6hebern/Python/blob/master/geospatial/legacy/s3netcdf2other.py\n",
    "\n",
    "https://gis.stackexchange.com/questions/103116/map-project-a-raster-having-separate-latitude-and-longitude-raster-bands\n",
    "\n",
    "https://gis.stackexchange.com/questions/273536/netcdf-with-separate-lat-lon-bands-to-geotiff-with-python-gdal\n",
    "\n",
    "https://gis.stackexchange.com/questions/154339/unable-to-warp-hdf5-files\n",
    "\n",
    "https://gis.stackexchange.com/questions/254729/warping-image-having-lat-lon-geolocation-array\n",
    "\n",
    "https://gis.stackexchange.com/questions/276253/set-metadata-domain-with-gdal-python-bindings\n",
    "\n",
    "https://gis.stackexchange.com/questions/259700/converting-sentinel-3-data-netcdf-to-geotiff\n",
    "\n",
    "https://gdal.org/drivers/raster/vrt.html\n",
    "\n",
    "https://gis.stackexchange.com/questions/134617/how-to-match-a-raster-netcdf-data-with-a-vector-layer-in-qgis\n",
    "\n",
    "https://gis.stackexchange.com/questions/137331/georeferencing-uneven-irregularly-gridded-rasters-using-gdal\n",
    "\n"
   ]
  },
  {
   "cell_type": "code",
   "execution_count": null,
   "metadata": {},
   "outputs": [],
   "source": [
    "import os\n",
    "import sys\n",
    "import shutil\n",
    "import math\n",
    "import subprocess as sub\n",
    "from osgeo import gdal, osr\n",
    "from netCDF4 import Dataset\n",
    "from basic_functions.callCmd import callCmd\n",
    "\n",
    "\n",
    "def calculateUtmZone(input):\n",
    "    ds = gdal.Open(input, gdal.GA_ReadOnly)\n",
    "    srs = osr.SpatialReference()\n",
    "    srs.ImportFromWkt(ds.GetProjection())\n",
    "    srs.AutoIdentifyEPSG()\n",
    "    epsg = int(srs.GetAttrValue('AUTHORITY', 1))\n",
    "    if epsg != 4326:\n",
    "        raise AttributeError('Coordinate System is not WGS84 with EPSG 4326!')\n",
    "    geotrans = ds.GetGeoTransform()\n",
    "    cols = ds.RasterXSize\n",
    "    rows = ds.RasterYSize\n",
    "    ds = None\n",
    "    cent_x = geotrans[0] + geotrans[1] * (cols / 2)\n",
    "    cent_y = geotrans[3] + geotrans[5] * (rows / 2)\n",
    "    utm_zone_num = int(math.floor((cent_x + 180) / 6) + 1)\n",
    "    utm_zone_hemi = 6 if cent_y >= 0 else 7\n",
    "    utm_epsg = 32000 + utm_zone_hemi * 100 + utm_zone_num\n",
    "    return utm_epsg\n",
    "\n",
    "\n",
    "def s3netcdf2other(input_dir, output_image, instrument='OLCI', outformat='GTiff', to_utm=True, outres=300):\n",
    "    tempdir = os.path.join(input_dir, 'tmp')\n",
    "    if os.path.exists(tempdir):\n",
    "        shutil.rmtree(tempdir)\n",
    "    os.mkdir(tempdir)\n",
    "    print('Retrieving coordinates...')\n",
    "    if instrument == 'OLCI':\n",
    "        BANDNAMES = ['Oa{0}_radiance'.format(str(i).zfill(2)) for i in range(1, 22)]  # range(1, 22)\n",
    "        nc_coords = os.path.join(input_dir, 'geo_coordinates.nc')\n",
    "        ds_nc = Dataset(nc_coords, 'r')\n",
    "        coords = (ds_nc.variables['latitude'], ds_nc.variables['longitude'])\n",
    "    elif instrument == 'SLSTR':\n",
    "        BANDNAMES = ['S{0}_radiance_an'.format(str(i).zfill(1)) for i in range(1, 7)]  # range(1, 10)\n",
    "        BANDNAMES = BANDNAMES + ['S{0}_BT_in'.format(str(i).zfill(1)) for i in range(7, 10)]  # range(1, 10)\n",
    "        BANDNAMES = BANDNAMES + ['F{0}_BT_in'.format(str(i).zfill(1)) for i in range(1, 3)]  # range(1, 10)\n",
    "        nc_coords = os.path.join(input_dir, 'geodetic_an.nc')\n",
    "        ds_nc = Dataset(nc_coords, 'r')\n",
    "        coords = (ds_nc.variables['latitude_an'], ds_nc.variables['longitude_an'])\n",
    "    else:\n",
    "        print('Wrong instrument indicator! Must be either \"OLCI\" or \"SLSTR\"!')\n",
    "    lat_tif = os.path.join(tempdir, coords[0].name + '.tif')\n",
    "    lon_tif = os.path.join(tempdir, coords[1].name + '.tif')\n",
    "    rad_tifs = []\n",
    "    nc_paths = [os.path.join(input_dir, band + '.nc') for band in BANDNAMES]\n",
    "    # get lat/lon\n",
    "    for v, var in enumerate(coords):\n",
    "        nodata = var._FillValue\n",
    "        scale = var.scale_factor\n",
    "        var_vrt = os.path.join(tempdir, var.name + '.vrt')\n",
    "        var_tif = os.path.join(tempdir, var.name + '.tif')\n",
    "        cmd = ['gdalbuildvrt', '-sd', str(1 + var._varid), '-separate', '-overwrite', var_vrt, nc_coords]\n",
    "        sub.call(cmd)\n",
    "        # edit vrt\n",
    "        with open(var_vrt, 'r') as f:\n",
    "            xml = f.readlines()\n",
    "        for line in xml:\n",
    "            if '<VRTRasterBand ' in line:\n",
    "                head_index = xml.index(line) + 1\n",
    "            if '<DstRect xOff' in line:\n",
    "                tail_index = xml.index(line) + 1\n",
    "        xml.insert(head_index, '    <NoDataValue>{nd}</NoDataValue>\\n'.format(nd=nodata))\n",
    "        xml.insert(head_index + 1, '    <Scale>{sc}</Scale>\\n'.format(sc=scale))\n",
    "        tail_index = tail_index + 2\n",
    "        xml.insert(tail_index, '      <NODATA>{nd}</NODATA>\\n'.format(nd=nodata))\n",
    "        xml.insert(tail_index + 2, '    <Offset>0.0</Offset>\\n')\n",
    "        xml.insert(tail_index + 3, '    <Scale>{sc}</Scale>\\n'.format(sc=scale))\n",
    "        xml = [line.replace('=\"Int32', '=\"Float32') for line in xml]\n",
    "        with open(var_vrt, 'w') as f:\n",
    "            f.writelines(xml)\n",
    "        # write to temporary tif\n",
    "        cmd = ['gdal_translate', '-unscale', var_vrt, var_tif]\n",
    "        sub.call(cmd)\n",
    "    ds_nc.close()\n",
    "    # single bands to vrt, then to tif\n",
    "    print('Converting all {n} bands...'.format(n=len(BANDNAMES)))\n",
    "    for n, nc in enumerate(nc_paths):\n",
    "        print('\\t... BAND {b}'.format(b=n+1))\n",
    "        ds_nc = Dataset(nc, 'r')\n",
    "        var = ds_nc.variables[os.path.basename(nc)[:-3]]\n",
    "        nodata = var._FillValue\n",
    "        offset = var.add_offset\n",
    "        rows = var.shape[0]\n",
    "        scale = var.scale_factor\n",
    "        ds_nc.close()\n",
    "        data_vrt = os.path.join(tempdir, 'data.vrt')\n",
    "        data_vrt_tif = data_vrt.replace('.vrt', '.tif')\n",
    "        out_vrt = os.path.join(tempdir, os.path.basename(nc)[:-3] + '.vrt')\n",
    "        out_tif = out_vrt.replace('.vrt', '.tif')\n",
    "        if instrument == 'OLCI':\n",
    "            cmd = ['gdalbuildvrt', '-sd', '1', '-separate', '-overwrite', data_vrt, nc]\n",
    "        else:\n",
    "            if os.path.basename(nc).endswith('BT_in.nc'):\n",
    "                cmd = ['gdalbuildvrt', '-sd', '1', '-separate', '-overwrite', data_vrt, nc]\n",
    "            else:\n",
    "                cmd = ['gdalbuildvrt', '-sd', '3', '-separate', '-overwrite', data_vrt, nc]\n",
    "        sub.call(cmd)\n",
    "        # edit vrt\n",
    "        with open(data_vrt, 'r') as f:\n",
    "            xml = f.readlines()\n",
    "        for line in xml:\n",
    "            if '<VRTRasterBand ' in line:\n",
    "                head_index = xml.index(line)\n",
    "            if '<DstRect xOff' in line:\n",
    "                tail_index = xml.index(line) + 1\n",
    "        xml[head_index] = '  <VRTRasterBand dataType=\"Float32\" band=\"1\">\\n'\n",
    "        xml.insert(head_index + 1, '    <NoDataValue>{nd}</NoDataValue>\\n'.format(nd=nodata))\n",
    "        xml[head_index + 2] = '    <ComplexSource>\\n'\n",
    "        xml[head_index + 5] = xml[head_index + 5].replace('DataType=\"UInt16\"', 'DataType=\"Float32\"')\n",
    "        tail_index = tail_index + 1\n",
    "        xml.insert(tail_index, '      <NODATA>{nd}</NODATA>\\n'.format(nd=nodata))\n",
    "        xml[tail_index + 1] = '    </ComplexSource>\\n'\n",
    "        xml.insert(tail_index + 2, '    <Offset>{off}</Offset>\\n'.format(off=offset))\n",
    "        xml.insert(tail_index + 3, '    <Scale>{sc}</Scale>\\n'.format(sc=scale))\n",
    "        with open(data_vrt, 'w') as f:\n",
    "            f.writelines(xml)\n",
    "        # write to temporary tif, then build a new vrt\n",
    "        cmd = ['gdal_translate', '-unscale', data_vrt, data_vrt_tif]\n",
    "        sub.call(cmd)\n",
    "        # update GeoTransform\n",
    "        ds = gdal.Open(data_vrt_tif, gdal.GA_Update)\n",
    "        ds.SetGeoTransform((0.0, 1.0, 0.0, float(rows), 0.0, -1.0))\n",
    "        ds.FlushCache()\n",
    "        # build new vrt\n",
    "        cmd = ['gdalbuildvrt', '-sd', '1', '-separate', '-overwrite', out_vrt, data_vrt_tif]\n",
    "        sub.call(cmd)\n",
    "        # edit vrt\n",
    "        with open(out_vrt, 'r') as f:\n",
    "            xml = f.readlines()\n",
    "        for line in xml:\n",
    "            if '<VRTRasterBand ' in line:\n",
    "                head_index = xml.index(line)\n",
    "                break\n",
    "        xml[head_index] = '  <VRTRasterBand dataType=\"Float32\" band=\"1\">\\n'\n",
    "        xml.insert(-1, '''  <metadata domain=\"GEOLOCATION\">\n",
    "    <mdi key=\"X_DATASET\">{lon}</mdi>\n",
    "    <mdi key=\"X_BAND\">1</mdi>\n",
    "    <mdi key=\"Y_DATASET\">{lat}</mdi>\n",
    "    <mdi key=\"Y_BAND\">1</mdi>\n",
    "    <mdi key=\"PIXEL_OFFSET\">0</mdi>\n",
    "    <mdi key=\"LINE_OFFSET\">0</mdi>\n",
    "    <mdi key=\"PIXEL_STEP\">1</mdi>\n",
    "    <mdi key=\"LINE_STEP\">1</mdi>\n",
    "  </metadata>\\n'''.format(lon=lon_tif, lat=lat_tif))\n",
    "        for line in xml:\n",
    "            if os.sep in line:\n",
    "                xml[xml.index(line)] = line.replace(os.sep, '/')\n",
    "        with open(out_vrt, 'w') as f:\n",
    "            f.writelines(xml)\n",
    "        # convert to tif\n",
    "        cmd = ['gdalwarp', '-t_srs', 'epsg:4326', '-geoloc', '-srcnodata', str(nodata), '-dstnodata', '-9999', out_vrt,\n",
    "               out_tif]\n",
    "        sub.call(cmd)\n",
    "        # remove temp files safely\n",
    "        os.remove(out_vrt)\n",
    "        ds = gdal.Open(data_vrt_tif, gdal.GA_ReadOnly)\n",
    "        ds = None\n",
    "        os.remove(data_vrt_tif)\n",
    "        rad_tifs.append(out_tif)\n",
    "    # stack together\n",
    "    print('Stacking bands...')\n",
    "    if 'win' in sys.platform.lower():\n",
    "        gdal_path = r'c:\\Program Files\\GDAL'\n",
    "    else:\n",
    "        gdal_path = r'/usr/bin'\n",
    "    gdal_merge = os.path.join(gdal_path, 'gdal_merge.py')\n",
    "    stack = os.path.join(tempdir, 'stack.tif')\n",
    "    cmd = ['python', gdal_merge, '-separate', '-n', '-9999', '-o', stack]\n",
    "    for r in rad_tifs:\n",
    "        cmd.append(r)\n",
    "    if os.path.exists(output_image):\n",
    "        drv = gdal.GetDriverByName(outformat)\n",
    "        drv.Delete(output_image)\n",
    "    sub.call(cmd)\n",
    "    if to_utm is True:\n",
    "        epsg = calculateUtmZone(stack)\n",
    "        print('Reprojecting to UTM (EPSG: {e})'.format(e=epsg))\n",
    "        cmd = ['gdalwarp', '-of', outformat, '-srcnodata', '-9999', '-dstnodata', '-9999', '-overwrite',\n",
    "               '-t_srs', 'epsg:{e}'.format(e=str(epsg)), '-tr', str(outres), str(outres), stack, output_image]\n",
    "        sub.call(cmd)\n",
    "    else:\n",
    "        if not outformat == 'GTiff':\n",
    "            print('Converting to {of}...'.format(of=outformat))\n",
    "            cmd = ['gdal_translate', '-of', outformat, '-a_nodata', '-9999', stack, output_image]\n",
    "            if outformat == 'ENVI':\n",
    "                cmd.append('-co')\n",
    "                cmd.append('interleave=bil')\n",
    "            elif outformat == 'GTiff':\n",
    "                cmd.append('-co')\n",
    "                cmd.append('compress=lzw')\n",
    "                sub.call(cmd)\n",
    "    print('Cleaning up...')\n",
    "    shutil.rmtree(tempdir)\n",
    "    print('Done!')\n",
    "\n",
    "\n",
    "if __name__ == '__main__':\n",
    "    indir = r'd:\\working\\testing\\s3\\S3A_OL_1_EFR____20180402T093229_20180402T093529_20180403T155138_0179_029_307_1980_MAR_O_NT_002.SEN3'\n",
    "    instru = 'OLCI'\n",
    "    out = os.path.join(os.path.dirname(indir), 'OLCI')\n",
    "    s3netcdf2other(indir, out, instrument=instru, to_utm=True)\n",
    "    indir = r'd:\\working\\testing\\s3\\S3A_SL_1_RBT____20180402T093229_20180402T093529_20180403T170539_0180_029_307_1980_MAR_O_NT_002.SEN3'\n",
    "    instru = 'SLSTR'\n",
    "    out = os.path.join(os.path.dirname(indir), 'SLSTR')\n",
    "    s3netcdf2other(indir, out, instrument=instru, to_utm=True)"
   ]
  },
  {
   "cell_type": "code",
   "execution_count": 2,
   "metadata": {},
   "outputs": [],
   "source": [
    "import waterdetect\n",
    "from pathlib import Path\n",
    "import gdal"
   ]
  },
  {
   "cell_type": "code",
   "execution_count": 6,
   "metadata": {},
   "outputs": [
    {
     "data": {
      "text/plain": [
       "True"
      ]
     },
     "execution_count": 6,
     "metadata": {},
     "output_type": "execute_result"
    }
   ],
   "source": [
    "path=Path('D:/Images/Download/GRS/S2A_MSIl2grs_20160921T143742_N0204_R096_T20LKQ_20160921T143741_jirau_GRS.nc')\n",
    "path.exists()"
   ]
  },
  {
   "cell_type": "code",
   "execution_count": 129,
   "metadata": {},
   "outputs": [
    {
     "data": {
      "text/plain": [
       "'NETCDF:\"D:\\\\Images\\\\Download\\\\GRS\\\\S2A_MSIl2grs_20160921T143742_N0204_R096_T20LKQ_20160921T143741_jirau_GRS.nc\":flags'"
      ]
     },
     "execution_count": 129,
     "metadata": {},
     "output_type": "execute_result"
    }
   ],
   "source": [
    "ds = gdal.Open(str(path))\n",
    "subds = ds.GetSubDatasets()\n",
    "subds[0][0]"
   ]
  },
  {
   "cell_type": "code",
   "execution_count": 132,
   "metadata": {},
   "outputs": [
    {
     "data": {
      "text/plain": [
       "(0.0, 1.0, 0.0, 0.0, 0.0, 1.0)"
      ]
     },
     "execution_count": 132,
     "metadata": {},
     "output_type": "execute_result"
    }
   ],
   "source": [
    "ds.GetGeoTransform()"
   ]
  },
  {
   "cell_type": "code",
   "execution_count": 12,
   "metadata": {},
   "outputs": [
    {
     "data": {
      "text/plain": [
       "'D:\\\\Images\\\\Download\\\\GRS\\\\S2A_MSIl2grs_20160921T143742_N0204_R096_T20LKQ_20160921T143741_jirau_GRS.nc'"
      ]
     },
     "execution_count": 12,
     "metadata": {},
     "output_type": "execute_result"
    }
   ],
   "source": [
    "ds.GetDescription()"
   ]
  },
  {
   "cell_type": "code",
   "execution_count": 13,
   "metadata": {},
   "outputs": [
    {
     "data": {
      "text/plain": [
       "{'NC_GLOBAL#auto_grouping': 'Rrs:Rrs_g_',\n",
       " 'NC_GLOBAL#Conventions': 'CF-1.4',\n",
       " 'NC_GLOBAL#metadata_profile': 'beam',\n",
       " 'NC_GLOBAL#metadata_version': '0.5',\n",
       " 'NC_GLOBAL#product_type': 'L2grs',\n",
       " 'NC_GLOBAL#start_date': '21-SEP-2016 14:37:42.026000',\n",
       " 'NC_GLOBAL#stop_date': '21-SEP-2016 14:37:42.026000',\n",
       " 'NC_GLOBAL#TileSize': '2048:2048'}"
      ]
     },
     "execution_count": 13,
     "metadata": {},
     "output_type": "execute_result"
    }
   ],
   "source": [
    "ds.GetMetadata()"
   ]
  },
  {
   "cell_type": "code",
   "execution_count": 16,
   "metadata": {},
   "outputs": [],
   "source": [
    "ds.GetLayerByIndex(2)"
   ]
  },
  {
   "cell_type": "code",
   "execution_count": 17,
   "metadata": {},
   "outputs": [],
   "source": [
    "ds.GetRasterBand(1)"
   ]
  },
  {
   "cell_type": "code",
   "execution_count": 32,
   "metadata": {},
   "outputs": [
    {
     "data": {
      "text/plain": [
       "'NETCDF:\"D:\\\\Images\\\\Download\\\\GRS\\\\S2A_MSIl2grs_20160921T143742_N0204_R096_T20LKQ_20160921T143741_jirau_GRS.nc\"'"
      ]
     },
     "execution_count": 32,
     "metadata": {},
     "output_type": "execute_result"
    }
   ],
   "source": [
    "s = 'NETCDF:\"'+str(path)+'\"'\n",
    "s"
   ]
  },
  {
   "cell_type": "code",
   "execution_count": 133,
   "metadata": {},
   "outputs": [],
   "source": [
    "ds = gdal.Open('NETCDF:'+str(path)+':flags')"
   ]
  },
  {
   "cell_type": "code",
   "execution_count": 134,
   "metadata": {},
   "outputs": [
    {
     "data": {
      "text/plain": [
       "1"
      ]
     },
     "execution_count": 134,
     "metadata": {},
     "output_type": "execute_result"
    }
   ],
   "source": [
    "ds.RasterCount"
   ]
  },
  {
   "cell_type": "code",
   "execution_count": 136,
   "metadata": {},
   "outputs": [
    {
     "data": {
      "text/plain": [
       "(0.0, 1.0, 0.0, 0.0, 0.0, 1.0)"
      ]
     },
     "execution_count": 136,
     "metadata": {},
     "output_type": "execute_result"
    }
   ],
   "source": [
    "ds.GetGeoTransform()"
   ]
  },
  {
   "cell_type": "code",
   "execution_count": 43,
   "metadata": {},
   "outputs": [
    {
     "data": {
      "text/plain": [
       "array([[ 4,  4,  4, ...,  4,  4,  4],\n",
       "       [ 4,  4,  4, ...,  4,  4,  4],\n",
       "       [ 4,  4,  4, ...,  4,  4,  4],\n",
       "       ...,\n",
       "       [36, 36, 36, ...,  4,  4,  4],\n",
       "       [36, 36, 36, ...,  4,  4,  4],\n",
       "       [36, 36, 36, ...,  4,  4,  4]], dtype=uint8)"
      ]
     },
     "execution_count": 43,
     "metadata": {},
     "output_type": "execute_result"
    }
   ],
   "source": [
    "ds.ReadAsArray()"
   ]
  },
  {
   "cell_type": "code",
   "execution_count": 57,
   "metadata": {},
   "outputs": [
    {
     "data": {
      "text/plain": [
       "'[5490x5490] Rrs_g_B11 (32-bit floating-point)'"
      ]
     },
     "execution_count": 57,
     "metadata": {},
     "output_type": "execute_result"
    }
   ],
   "source": [
    "subds[10][1]"
   ]
  },
  {
   "cell_type": "code",
   "execution_count": null,
   "metadata": {},
   "outputs": [],
   "source": []
  },
  {
   "cell_type": "code",
   "execution_count": 59,
   "metadata": {},
   "outputs": [],
   "source": [
    "b = gdal.Open(subds[10][0])\n",
    "arr = b.ReadAsArray()"
   ]
  },
  {
   "cell_type": "code",
   "execution_count": 61,
   "metadata": {},
   "outputs": [
    {
     "data": {
      "text/plain": [
       "<matplotlib.image.AxesImage at 0x22bb34d9988>"
      ]
     },
     "execution_count": 61,
     "metadata": {},
     "output_type": "execute_result"
    }
   ],
   "source": [
    "import matplotlib.pyplot as plt\n",
    "plt.imshow(arr)"
   ]
  },
  {
   "cell_type": "code",
   "execution_count": null,
   "metadata": {},
   "outputs": [],
   "source": [
    "subds = ds.GetSubDatasets()\n",
    "subds"
   ]
  },
  {
   "cell_type": "code",
   "execution_count": 62,
   "metadata": {},
   "outputs": [],
   "source": [
    "from scipy.io import netcdf"
   ]
  },
  {
   "cell_type": "code",
   "execution_count": 64,
   "metadata": {},
   "outputs": [
    {
     "ename": "TypeError",
     "evalue": "Error: D:\\Images\\Download\\GRS\\S2A_MSIl2grs_20160921T143742_N0204_R096_T20LKQ_20160921T143741_jirau_GRS.nc is not a valid NetCDF 3 file",
     "output_type": "error",
     "traceback": [
      "\u001b[1;31m---------------------------------------------------------------------------\u001b[0m",
      "\u001b[1;31mTypeError\u001b[0m                                 Traceback (most recent call last)",
      "\u001b[1;32m<ipython-input-64-a456097ffbda>\u001b[0m in \u001b[0;36m<module>\u001b[1;34m\u001b[0m\n\u001b[1;32m----> 1\u001b[1;33m \u001b[0mf\u001b[0m \u001b[1;33m=\u001b[0m \u001b[0mnetcdf\u001b[0m\u001b[1;33m.\u001b[0m\u001b[0mnetcdf_file\u001b[0m\u001b[1;33m(\u001b[0m\u001b[0mstr\u001b[0m\u001b[1;33m(\u001b[0m\u001b[0mpath\u001b[0m\u001b[1;33m)\u001b[0m\u001b[1;33m)\u001b[0m\u001b[1;33m\u001b[0m\u001b[1;33m\u001b[0m\u001b[0m\n\u001b[0m",
      "\u001b[1;32mD:\\Programs\\anaconda\\envs\\fastai2_v2\\lib\\site-packages\\scipy\\io\\netcdf.py\u001b[0m in \u001b[0;36m__init__\u001b[1;34m(self, filename, mode, mmap, version, maskandscale)\u001b[0m\n\u001b[0;32m    282\u001b[0m \u001b[1;33m\u001b[0m\u001b[0m\n\u001b[0;32m    283\u001b[0m         \u001b[1;32mif\u001b[0m \u001b[0mmode\u001b[0m \u001b[1;32min\u001b[0m \u001b[1;34m'ra'\u001b[0m\u001b[1;33m:\u001b[0m\u001b[1;33m\u001b[0m\u001b[1;33m\u001b[0m\u001b[0m\n\u001b[1;32m--> 284\u001b[1;33m             \u001b[0mself\u001b[0m\u001b[1;33m.\u001b[0m\u001b[0m_read\u001b[0m\u001b[1;33m(\u001b[0m\u001b[1;33m)\u001b[0m\u001b[1;33m\u001b[0m\u001b[1;33m\u001b[0m\u001b[0m\n\u001b[0m\u001b[0;32m    285\u001b[0m \u001b[1;33m\u001b[0m\u001b[0m\n\u001b[0;32m    286\u001b[0m     \u001b[1;32mdef\u001b[0m \u001b[0m__setattr__\u001b[0m\u001b[1;33m(\u001b[0m\u001b[0mself\u001b[0m\u001b[1;33m,\u001b[0m \u001b[0mattr\u001b[0m\u001b[1;33m,\u001b[0m \u001b[0mvalue\u001b[0m\u001b[1;33m)\u001b[0m\u001b[1;33m:\u001b[0m\u001b[1;33m\u001b[0m\u001b[1;33m\u001b[0m\u001b[0m\n",
      "\u001b[1;32mD:\\Programs\\anaconda\\envs\\fastai2_v2\\lib\\site-packages\\scipy\\io\\netcdf.py\u001b[0m in \u001b[0;36m_read\u001b[1;34m(self)\u001b[0m\n\u001b[0;32m    607\u001b[0m         \u001b[1;32mif\u001b[0m \u001b[1;32mnot\u001b[0m \u001b[0mmagic\u001b[0m \u001b[1;33m==\u001b[0m \u001b[1;34mb'CDF'\u001b[0m\u001b[1;33m:\u001b[0m\u001b[1;33m\u001b[0m\u001b[1;33m\u001b[0m\u001b[0m\n\u001b[0;32m    608\u001b[0m             raise TypeError(\"Error: %s is not a valid NetCDF 3 file\" %\n\u001b[1;32m--> 609\u001b[1;33m                             self.filename)\n\u001b[0m\u001b[0;32m    610\u001b[0m         \u001b[0mself\u001b[0m\u001b[1;33m.\u001b[0m\u001b[0m__dict__\u001b[0m\u001b[1;33m[\u001b[0m\u001b[1;34m'version_byte'\u001b[0m\u001b[1;33m]\u001b[0m \u001b[1;33m=\u001b[0m \u001b[0mfrombuffer\u001b[0m\u001b[1;33m(\u001b[0m\u001b[0mself\u001b[0m\u001b[1;33m.\u001b[0m\u001b[0mfp\u001b[0m\u001b[1;33m.\u001b[0m\u001b[0mread\u001b[0m\u001b[1;33m(\u001b[0m\u001b[1;36m1\u001b[0m\u001b[1;33m)\u001b[0m\u001b[1;33m,\u001b[0m \u001b[1;34m'>b'\u001b[0m\u001b[1;33m)\u001b[0m\u001b[1;33m[\u001b[0m\u001b[1;36m0\u001b[0m\u001b[1;33m]\u001b[0m\u001b[1;33m\u001b[0m\u001b[1;33m\u001b[0m\u001b[0m\n\u001b[0;32m    611\u001b[0m \u001b[1;33m\u001b[0m\u001b[0m\n",
      "\u001b[1;31mTypeError\u001b[0m: Error: D:\\Images\\Download\\GRS\\S2A_MSIl2grs_20160921T143742_N0204_R096_T20LKQ_20160921T143741_jirau_GRS.nc is not a valid NetCDF 3 file"
     ]
    }
   ],
   "source": [
    "f = netcdf.netcdf_file(str(path))"
   ]
  },
  {
   "cell_type": "code",
   "execution_count": 66,
   "metadata": {},
   "outputs": [],
   "source": [
    "import netCDF4 as nc"
   ]
  },
  {
   "cell_type": "code",
   "execution_count": null,
   "metadata": {},
   "outputs": [],
   "source": [
    "ds.variables['metadata']"
   ]
  },
  {
   "cell_type": "code",
   "execution_count": 143,
   "metadata": {},
   "outputs": [],
   "source": [
    "ds = nc.Dataset(str(path))"
   ]
  },
  {
   "cell_type": "code",
   "execution_count": 138,
   "metadata": {},
   "outputs": [
    {
     "name": "stdout",
     "output_type": "stream",
     "text": [
      "<class 'netCDF4._netCDF4.Dataset'>\n",
      "root group (NETCDF4_CLASSIC data model, file format HDF5):\n",
      "    Conventions: CF-1.4\n",
      "    TileSize: 2048:2048\n",
      "    product_type: L2grs\n",
      "    metadata_profile: beam\n",
      "    metadata_version: 0.5\n",
      "    auto_grouping: Rrs:Rrs_g_\n",
      "    start_date: 21-SEP-2016 14:37:42.026000\n",
      "    stop_date: 21-SEP-2016 14:37:42.026000\n",
      "    dimensions(sizes): y(5490), x(5490)\n",
      "    variables(dimensions): int8 \u001b[4mmetadata\u001b[0m(), int8 \u001b[4mflags\u001b[0m(y,x), float32 \u001b[4mRrs_g_B1\u001b[0m(y,x), float32 \u001b[4mRrs_g_B2\u001b[0m(y,x), float32 \u001b[4mRrs_g_B3\u001b[0m(y,x), float32 \u001b[4mRrs_g_B4\u001b[0m(y,x), float32 \u001b[4mRrs_g_B5\u001b[0m(y,x), float32 \u001b[4mRrs_g_B6\u001b[0m(y,x), float32 \u001b[4mRrs_g_B7\u001b[0m(y,x), float32 \u001b[4mRrs_g_B8\u001b[0m(y,x), float32 \u001b[4mRrs_g_B8A\u001b[0m(y,x), float32 \u001b[4mRrs_g_B11\u001b[0m(y,x), float32 \u001b[4mRrs_g_B12\u001b[0m(y,x), float32 \u001b[4mRrs_B1\u001b[0m(y,x), float32 \u001b[4mRrs_B2\u001b[0m(y,x), float32 \u001b[4mRrs_B3\u001b[0m(y,x), float32 \u001b[4mRrs_B4\u001b[0m(y,x), float32 \u001b[4mRrs_B5\u001b[0m(y,x), float32 \u001b[4mRrs_B6\u001b[0m(y,x), float32 \u001b[4mRrs_B7\u001b[0m(y,x), float32 \u001b[4mRrs_B8\u001b[0m(y,x), float32 \u001b[4mRrs_B8A\u001b[0m(y,x), float32 \u001b[4mRrs_B11\u001b[0m(y,x), float32 \u001b[4mRrs_B12\u001b[0m(y,x), float32 \u001b[4mBRDFg\u001b[0m(y,x), float32 \u001b[4maot550\u001b[0m(y,x), float32 \u001b[4mSZA\u001b[0m(y,x), float32 \u001b[4mVZA\u001b[0m(y,x), float32 \u001b[4mAZI\u001b[0m(y,x), float64 \u001b[4mlat\u001b[0m(y,x), float64 \u001b[4mlon\u001b[0m(y,x), int32 \u001b[4mcrs\u001b[0m(), int8 \u001b[4mmask_nodata_mask\u001b[0m(), int8 \u001b[4mmask_negative_mask\u001b[0m(), int8 \u001b[4mmask_ndwi_mask\u001b[0m(), int8 \u001b[4mmask_ndwi_corr_mask\u001b[0m(), int8 \u001b[4mmask_high_nir_mask\u001b[0m(), int8 \u001b[4mmask_hicld_mask\u001b[0m(), int8 \u001b[4mmask_L1_cloud_mask\u001b[0m(), int8 \u001b[4mmask_L1_cirrus_mask\u001b[0m(), int8 \u001b[4mmask_L1_shadow_mask\u001b[0m()\n",
      "    groups: \n",
      "\n"
     ]
    }
   ],
   "source": [
    "print(ds)"
   ]
  },
  {
   "cell_type": "code",
   "execution_count": 160,
   "metadata": {},
   "outputs": [
    {
     "data": {
      "text/plain": [
       "<class 'netCDF4._netCDF4.Variable'>\n",
       "float32 Rrs_g_B6(y, x)\n",
       "    long_name: Water-leaving plus sunglint remote sensing reflectance (Rrs + Lg/F0) in sr-1 at B6\n",
       "    _FillValue: nan\n",
       "    coordinates: lat lon\n",
       "    bandwidth: 40.0\n",
       "    wavelength: 740.4838\n",
       "    valid_pixel_expression: mask_nodata == 0 && mask_ndwi == 0\n",
       "unlimited dimensions: \n",
       "current shape = (5490, 5490)\n",
       "filling on"
      ]
     },
     "execution_count": 160,
     "metadata": {},
     "output_type": "execute_result"
    }
   ],
   "source": [
    "var = ds['Rrs_g_B6']\n",
    "var"
   ]
  },
  {
   "cell_type": "code",
   "execution_count": 158,
   "metadata": {},
   "outputs": [],
   "source": [
    "var = ds['Rrs_B6']"
   ]
  },
  {
   "cell_type": "code",
   "execution_count": 161,
   "metadata": {},
   "outputs": [
    {
     "ename": "AttributeError",
     "evalue": "NetCDF: Attribute not found",
     "output_type": "error",
     "traceback": [
      "\u001b[1;31m---------------------------------------------------------------------------\u001b[0m",
      "\u001b[1;31mAttributeError\u001b[0m                            Traceback (most recent call last)",
      "\u001b[1;32m<ipython-input-161-ec4da46b6640>\u001b[0m in \u001b[0;36m<module>\u001b[1;34m\u001b[0m\n\u001b[1;32m----> 1\u001b[1;33m \u001b[0mds\u001b[0m\u001b[1;33m.\u001b[0m\u001b[0mvariables\u001b[0m\u001b[1;33m[\u001b[0m\u001b[1;34m'Rrs_g_B6'\u001b[0m\u001b[1;33m]\u001b[0m\u001b[1;33m.\u001b[0m\u001b[0mdata\u001b[0m\u001b[1;33m\u001b[0m\u001b[1;33m\u001b[0m\u001b[0m\n\u001b[0m",
      "\u001b[1;32mnetCDF4\\_netCDF4.pyx\u001b[0m in \u001b[0;36mnetCDF4._netCDF4.Variable.__getattr__\u001b[1;34m()\u001b[0m\n",
      "\u001b[1;32mnetCDF4\\_netCDF4.pyx\u001b[0m in \u001b[0;36mnetCDF4._netCDF4.Variable.getncattr\u001b[1;34m()\u001b[0m\n",
      "\u001b[1;32mnetCDF4\\_netCDF4.pyx\u001b[0m in \u001b[0;36mnetCDF4._netCDF4._get_att\u001b[1;34m()\u001b[0m\n",
      "\u001b[1;32mnetCDF4\\_netCDF4.pyx\u001b[0m in \u001b[0;36mnetCDF4._netCDF4._ensure_nc_success\u001b[1;34m()\u001b[0m\n",
      "\u001b[1;31mAttributeError\u001b[0m: NetCDF: Attribute not found"
     ]
    }
   ],
   "source": [
    "ds.variables['Rrs_g_B6'].data"
   ]
  },
  {
   "cell_type": "code",
   "execution_count": 162,
   "metadata": {},
   "outputs": [],
   "source": [
    "marr = var[:]"
   ]
  },
  {
   "cell_type": "code",
   "execution_count": 98,
   "metadata": {},
   "outputs": [
    {
     "data": {
      "text/plain": [
       "<matplotlib.image.AxesImage at 0x22b8ed42a48>"
      ]
     },
     "execution_count": 98,
     "metadata": {},
     "output_type": "execute_result"
    }
   ],
   "source": [
    "plt.imshow(marr.data)"
   ]
  },
  {
   "cell_type": "code",
   "execution_count": 90,
   "metadata": {},
   "outputs": [],
   "source": [
    "import numpy as np"
   ]
  },
  {
   "cell_type": "code",
   "execution_count": 100,
   "metadata": {},
   "outputs": [
    {
     "name": "stderr",
     "output_type": "stream",
     "text": [
      "D:\\Programs\\anaconda\\envs\\fastai2_v2\\lib\\site-packages\\ipykernel_launcher.py:1: RuntimeWarning: invalid value encountered in greater\n",
      "  \"\"\"Entry point for launching an IPython kernel.\n"
     ]
    },
    {
     "data": {
      "text/plain": [
       "477527"
      ]
     },
     "execution_count": 100,
     "metadata": {},
     "output_type": "execute_result"
    }
   ],
   "source": [
    "np.count_nonzero(marr.data > 0)"
   ]
  },
  {
   "cell_type": "code",
   "execution_count": 115,
   "metadata": {},
   "outputs": [
    {
     "name": "stderr",
     "output_type": "stream",
     "text": [
      "D:\\Programs\\anaconda\\envs\\fastai2_v2\\lib\\site-packages\\ipykernel_launcher.py:1: RuntimeWarning: invalid value encountered in greater\n",
      "  \"\"\"Entry point for launching an IPython kernel.\n"
     ]
    }
   ],
   "source": [
    "img = np.where(marr.data > 0, marr.data, -1)"
   ]
  },
  {
   "cell_type": "code",
   "execution_count": 163,
   "metadata": {},
   "outputs": [
    {
     "data": {
      "text/plain": [
       "array([[nan, nan, nan, ..., nan, nan, nan],\n",
       "       [nan, nan, nan, ..., nan, nan, nan],\n",
       "       [nan, nan, nan, ..., nan, nan, nan],\n",
       "       ...,\n",
       "       [nan, nan, nan, ..., nan, nan, nan],\n",
       "       [nan, nan, nan, ..., nan, nan, nan],\n",
       "       [nan, nan, nan, ..., nan, nan, nan]], dtype=float32)"
      ]
     },
     "execution_count": 163,
     "metadata": {},
     "output_type": "execute_result"
    }
   ],
   "source": [
    "marr.data"
   ]
  },
  {
   "cell_type": "code",
   "execution_count": 164,
   "metadata": {},
   "outputs": [
    {
     "data": {
      "text/plain": [
       "<matplotlib.image.AxesImage at 0x22b849c6048>"
      ]
     },
     "execution_count": 164,
     "metadata": {},
     "output_type": "execute_result"
    },
    {
     "data": {
      "image/png": "[encoded data removed]",
      "text/plain": [
       "<Figure size 432x288 with 1 Axes>"
      ]
     },
     "metadata": {
      "needs_background": "light"
     },
     "output_type": "display_data"
    }
   ],
   "source": [
    "plt.imshow(img)"
   ]
  },
  {
   "cell_type": "code",
   "execution_count": 125,
   "metadata": {},
   "outputs": [
    {
     "data": {
      "text/plain": [
       "<matplotlib.image.AxesImage at 0x22b90e56488>"
      ]
     },
     "execution_count": 125,
     "metadata": {},
     "output_type": "execute_result"
    },
    {
     "data": {
      "image/png": "[encoded data removed]",
      "text/plain": [
       "<Figure size 432x288 with 1 Axes>"
      ]
     },
     "metadata": {
      "needs_background": "light"
     },
     "output_type": "display_data"
    }
   ],
   "source": [
    "plt.imshow(marr.mask)"
   ]
  },
  {
   "cell_type": "code",
   "execution_count": 106,
   "metadata": {},
   "outputs": [],
   "source": [
    "%matplotlib inline"
   ]
  },
  {
   "cell_type": "code",
   "execution_count": 124,
   "metadata": {},
   "outputs": [
    {
     "data": {
      "text/plain": [
       "array([[ True,  True,  True, ...,  True,  True,  True],\n",
       "       [ True,  True,  True, ...,  True,  True,  True],\n",
       "       [ True,  True,  True, ...,  True,  True,  True],\n",
       "       ...,\n",
       "       [ True,  True,  True, ...,  True,  True,  True],\n",
       "       [ True,  True,  True, ...,  True,  True,  True],\n",
       "       [ True,  True,  True, ...,  True,  True,  True]])"
      ]
     },
     "execution_count": 124,
     "metadata": {},
     "output_type": "execute_result"
    }
   ],
   "source": [
    "marr.mask"
   ]
  },
  {
   "cell_type": "code",
   "execution_count": 121,
   "metadata": {},
   "outputs": [
    {
     "data": {
      "text/plain": [
       "nan"
      ]
     },
     "execution_count": 121,
     "metadata": {},
     "output_type": "execute_result"
    }
   ],
   "source": [
    "np.nan"
   ]
  },
  {
   "cell_type": "code",
   "execution_count": 127,
   "metadata": {},
   "outputs": [
    {
     "data": {
      "text/plain": [
       "<class 'netCDF4._netCDF4.Dataset'>\n",
       "root group (NETCDF4_CLASSIC data model, file format HDF5):\n",
       "    Conventions: CF-1.4\n",
       "    TileSize: 2048:2048\n",
       "    product_type: L2grs\n",
       "    metadata_profile: beam\n",
       "    metadata_version: 0.5\n",
       "    auto_grouping: Rrs:Rrs_g_\n",
       "    start_date: 21-SEP-2016 14:37:42.026000\n",
       "    stop_date: 21-SEP-2016 14:37:42.026000\n",
       "    dimensions(sizes): y(5490), x(5490)\n",
       "    variables(dimensions): int8 \u001b[4mmetadata\u001b[0m(), int8 \u001b[4mflags\u001b[0m(y,x), float32 \u001b[4mRrs_g_B1\u001b[0m(y,x), float32 \u001b[4mRrs_g_B2\u001b[0m(y,x), float32 \u001b[4mRrs_g_B3\u001b[0m(y,x), float32 \u001b[4mRrs_g_B4\u001b[0m(y,x), float32 \u001b[4mRrs_g_B5\u001b[0m(y,x), float32 \u001b[4mRrs_g_B6\u001b[0m(y,x), float32 \u001b[4mRrs_g_B7\u001b[0m(y,x), float32 \u001b[4mRrs_g_B8\u001b[0m(y,x), float32 \u001b[4mRrs_g_B8A\u001b[0m(y,x), float32 \u001b[4mRrs_g_B11\u001b[0m(y,x), float32 \u001b[4mRrs_g_B12\u001b[0m(y,x), float32 \u001b[4mRrs_B1\u001b[0m(y,x), float32 \u001b[4mRrs_B2\u001b[0m(y,x), float32 \u001b[4mRrs_B3\u001b[0m(y,x), float32 \u001b[4mRrs_B4\u001b[0m(y,x), float32 \u001b[4mRrs_B5\u001b[0m(y,x), float32 \u001b[4mRrs_B6\u001b[0m(y,x), float32 \u001b[4mRrs_B7\u001b[0m(y,x), float32 \u001b[4mRrs_B8\u001b[0m(y,x), float32 \u001b[4mRrs_B8A\u001b[0m(y,x), float32 \u001b[4mRrs_B11\u001b[0m(y,x), float32 \u001b[4mRrs_B12\u001b[0m(y,x), float32 \u001b[4mBRDFg\u001b[0m(y,x), float32 \u001b[4maot550\u001b[0m(y,x), float32 \u001b[4mSZA\u001b[0m(y,x), float32 \u001b[4mVZA\u001b[0m(y,x), float32 \u001b[4mAZI\u001b[0m(y,x), float64 \u001b[4mlat\u001b[0m(y,x), float64 \u001b[4mlon\u001b[0m(y,x), int32 \u001b[4mcrs\u001b[0m(), int8 \u001b[4mmask_nodata_mask\u001b[0m(), int8 \u001b[4mmask_negative_mask\u001b[0m(), int8 \u001b[4mmask_ndwi_mask\u001b[0m(), int8 \u001b[4mmask_ndwi_corr_mask\u001b[0m(), int8 \u001b[4mmask_high_nir_mask\u001b[0m(), int8 \u001b[4mmask_hicld_mask\u001b[0m(), int8 \u001b[4mmask_L1_cloud_mask\u001b[0m(), int8 \u001b[4mmask_L1_cirrus_mask\u001b[0m(), int8 \u001b[4mmask_L1_shadow_mask\u001b[0m()\n",
       "    groups: "
      ]
     },
     "execution_count": 127,
     "metadata": {},
     "output_type": "execute_result"
    }
   ],
   "source": [
    "ds"
   ]
  },
  {
   "cell_type": "code",
   "execution_count": 141,
   "metadata": {},
   "outputs": [
    {
     "data": {
      "text/plain": [
       "'L2grs'"
      ]
     },
     "execution_count": 141,
     "metadata": {},
     "output_type": "execute_result"
    }
   ],
   "source": [
    "ds.product_type"
   ]
  },
  {
   "cell_type": "markdown",
   "metadata": {},
   "source": [
    "# Sentinel 3"
   ]
  },
  {
   "cell_type": "code",
   "execution_count": 3,
   "metadata": {},
   "outputs": [
    {
     "data": {
      "text/plain": [
       "True"
      ]
     },
     "execution_count": 3,
     "metadata": {},
     "output_type": "execute_result"
    }
   ],
   "source": [
    "path=Path('D:\\Images\\Download\\Sentinel3\\S3A_OL_2_WFR____20191104T135002_20191104T135302_20191124T134508_0179_051_124_3060_MAR_O_NT_002.SEN3/')\n",
    "path.exists()"
   ]
  },
  {
   "cell_type": "code",
   "execution_count": 4,
   "metadata": {},
   "outputs": [
    {
     "data": {
      "text/plain": [
       "1"
      ]
     },
     "execution_count": 4,
     "metadata": {},
     "output_type": "execute_result"
    }
   ],
   "source": [
    "ds = gdal.Open(str(path/'Oa01_reflectance.nc'))\n",
    "\n",
    "subds = ds.GetSubDatasets()[0][0]\n",
    "band = gdal.Open(subds)\n",
    "band.RasterCount"
   ]
  },
  {
   "cell_type": "code",
   "execution_count": 5,
   "metadata": {},
   "outputs": [],
   "source": [
    "arr = band.ReadAsArray()"
   ]
  },
  {
   "cell_type": "code",
   "execution_count": 6,
   "metadata": {},
   "outputs": [
    {
     "data": {
      "text/plain": [
       "<osgeo.gdal.Dataset; proxy of <Swig Object of type 'GDALDatasetShadow *' at 0x0000018916A37CF0> >"
      ]
     },
     "execution_count": 6,
     "metadata": {},
     "output_type": "execute_result"
    }
   ],
   "source": [
    "ds"
   ]
  },
  {
   "cell_type": "code",
   "execution_count": 185,
   "metadata": {},
   "outputs": [
    {
     "data": {
      "text/plain": [
       "<matplotlib.image.AxesImage at 0x22b84a38a88>"
      ]
     },
     "execution_count": 185,
     "metadata": {},
     "output_type": "execute_result"
    },
    {
     "data": {
      "image/png": "[encoded data removed]",
      "text/plain": [
       "<Figure size 432x288 with 1 Axes>"
      ]
     },
     "metadata": {
      "needs_background": "light"
     },
     "output_type": "display_data"
    }
   ],
   "source": [
    "plt.imshow(arr)"
   ]
  },
  {
   "cell_type": "code",
   "execution_count": 186,
   "metadata": {},
   "outputs": [],
   "source": [
    "srcband = band.GetRasterBand(1)"
   ]
  },
  {
   "cell_type": "code",
   "execution_count": 189,
   "metadata": {},
   "outputs": [
    {
     "data": {
      "text/plain": [
       "-0.20000000298023224"
      ]
     },
     "execution_count": 189,
     "metadata": {},
     "output_type": "execute_result"
    }
   ],
   "source": [
    "srcband.GetOffset()"
   ]
  },
  {
   "cell_type": "code",
   "execution_count": 190,
   "metadata": {},
   "outputs": [
    {
     "data": {
      "text/plain": [
       "{'add_offset': '-0.2',\n",
       " 'long_name': 'Reflectance for OLCI acquisition band Oa01',\n",
       " 'NETCDF_VARNAME': 'Oa01_reflectance',\n",
       " 'scale_factor': '1.8311106e-05',\n",
       " '_FillValue': '65535'}"
      ]
     },
     "execution_count": 190,
     "metadata": {},
     "output_type": "execute_result"
    }
   ],
   "source": [
    "srcband.GetMetadata_Dict()"
   ]
  },
  {
   "cell_type": "code",
   "execution_count": 192,
   "metadata": {},
   "outputs": [
    {
     "data": {
      "text/plain": [
       "(0.0, 23949.0)"
      ]
     },
     "execution_count": 192,
     "metadata": {},
     "output_type": "execute_result"
    }
   ],
   "source": [
    "srcband.ComputeRasterMinMax()"
   ]
  },
  {
   "cell_type": "code",
   "execution_count": 193,
   "metadata": {},
   "outputs": [],
   "source": [
    "ds = nc.Dataset(str(path))"
   ]
  },
  {
   "cell_type": "code",
   "execution_count": 197,
   "metadata": {},
   "outputs": [
    {
     "data": {
      "text/plain": [
       "OrderedDict([('Oa01_reflectance',\n",
       "              <class 'netCDF4._netCDF4.Variable'>\n",
       "              uint16 Oa01_reflectance(rows, columns)\n",
       "                  _FillValue: 65535\n",
       "                  add_offset: -0.2\n",
       "                  long_name: Reflectance for OLCI acquisition band Oa01\n",
       "                  scale_factor: 1.8311106e-05\n",
       "              unlimited dimensions: \n",
       "              current shape = (4091, 4865)\n",
       "              filling on),\n",
       "             ('Oa01_reflectance_err',\n",
       "              <class 'netCDF4._netCDF4.Variable'>\n",
       "              uint16 Oa01_reflectance_err(rows, columns)\n",
       "                  _FillValue: 65535\n",
       "                  add_offset: -0.2\n",
       "                  long_name: Error estimates for OLCI acquisition band Oa01\n",
       "                  scale_factor: 1.8311106e-05\n",
       "              unlimited dimensions: \n",
       "              current shape = (4091, 4865)\n",
       "              filling on)])"
      ]
     },
     "execution_count": 197,
     "metadata": {},
     "output_type": "execute_result"
    }
   ],
   "source": [
    "ds.variables"
   ]
  },
  {
   "cell_type": "code",
   "execution_count": 198,
   "metadata": {},
   "outputs": [
    {
     "data": {
      "text/plain": [
       "(<osgeo.gdal.GDALWarpAppOptions; proxy of <Swig Object of type 'GDALWarpAppOptions *' at 0x0000022B84AD45D0> >,\n",
       " None,\n",
       " None)"
      ]
     },
     "execution_count": 198,
     "metadata": {},
     "output_type": "execute_result"
    }
   ],
   "source": [
    "gdal.WarpOptions()"
   ]
  },
  {
   "cell_type": "code",
   "execution_count": 201,
   "metadata": {},
   "outputs": [],
   "source": [
    "ds = nc.Dataset(str(path/'geo_coordinates.nc'))"
   ]
  },
  {
   "cell_type": "code",
   "execution_count": 224,
   "metadata": {},
   "outputs": [],
   "source": [
    "arr = ds['latitude'][:]"
   ]
  },
  {
   "cell_type": "code",
   "execution_count": 225,
   "metadata": {},
   "outputs": [
    {
     "data": {
      "text/plain": [
       "masked_array(\n",
       "  data=[[ -0.127486,  -0.128023,  -0.128561, ...,  -2.720638,  -2.721164,\n",
       "          -2.72169 ],\n",
       "        [ -0.130057,  -0.130594,  -0.131132, ...,  -2.723237,  -2.723763,\n",
       "          -2.724288],\n",
       "        [ -0.132628,  -0.133165,  -0.133703, ...,  -2.725835,  -2.726361,\n",
       "          -2.726887],\n",
       "        ...,\n",
       "        [-10.614315, -10.614923, -10.615531, ..., -13.335907, -13.336415,\n",
       "         -13.336923],\n",
       "        [-10.616874, -10.617482, -10.61809 , ..., -13.338502, -13.339009,\n",
       "         -13.339517],\n",
       "        [-10.619433, -10.620041, -10.620649, ..., -13.341096, -13.341604,\n",
       "         -13.342112]],\n",
       "  mask=False,\n",
       "  fill_value=1e+20)"
      ]
     },
     "execution_count": 225,
     "metadata": {},
     "output_type": "execute_result"
    }
   ],
   "source": [
    "arr"
   ]
  },
  {
   "cell_type": "code",
   "execution_count": 226,
   "metadata": {},
   "outputs": [],
   "source": [
    "diff = arr - np.roll(arr, -1, axis=0)"
   ]
  },
  {
   "cell_type": "code",
   "execution_count": 227,
   "metadata": {},
   "outputs": [
    {
     "data": {
      "text/plain": [
       "masked_array(data=[ 2.59410421e-03,  2.59410031e-03,  2.59278705e-03, ...,\n",
       "                    2.58581686e-03,  2.58493875e-03, -1.05926628e+01],\n",
       "             mask=False,\n",
       "       fill_value=1e+20)"
      ]
     },
     "execution_count": 227,
     "metadata": {},
     "output_type": "execute_result"
    }
   ],
   "source": [
    "diff.mean(axis=1)"
   ]
  },
  {
   "cell_type": "code",
   "execution_count": 234,
   "metadata": {},
   "outputs": [
    {
     "data": {
      "text/plain": [
       "{'NC_GLOBAL#absolute_orbit_number': '19347',\n",
       " 'NC_GLOBAL#ac_subsampling_factor': '64',\n",
       " 'NC_GLOBAL#al_subsampling_factor': '1',\n",
       " 'NC_GLOBAL#comment': ' ',\n",
       " 'NC_GLOBAL#contact': 'ops@eumetsat.int',\n",
       " 'NC_GLOBAL#creation_time': '2019-11-24T13:45:08Z',\n",
       " 'NC_GLOBAL#history': '  2019-11-24T13:45:08Z: PUGCoreProcessor /data/ipf-s3/workdir61/603967849/JobOrder.603967849.xml',\n",
       " 'NC_GLOBAL#institution': 'MAR',\n",
       " 'NC_GLOBAL#netCDF_version': '4.2 of Jul  5 2012 17:07:43 $',\n",
       " 'NC_GLOBAL#product_name': 'S3A_OL_2_WFR____20191104T135002_20191104T135302_20191124T134508_0179_051_124_3060_MAR_O_NT_002.SEN3',\n",
       " 'NC_GLOBAL#references': 'S3IPF PDS 004.3 - i2r2 - Product Data Format Specification - OLCI Level 2 Marine, S3IPF PDS 002 - i1r7 - Product Data Format Specification - Product Structures, S3IPF DPM 008 - i1r3 - Detailed Processing Model - OLCI Level 2',\n",
       " 'NC_GLOBAL#resolution': '[ 270 294 ]',\n",
       " 'NC_GLOBAL#source': 'IPF-OL-2 06.13',\n",
       " 'NC_GLOBAL#start_time': '2019-11-04T13:50:01.882566Z',\n",
       " 'NC_GLOBAL#stop_time': '2019-11-04T13:53:01.847624Z',\n",
       " 'NC_GLOBAL#title': 'OLCI Level 2 WATER Product, Reflectance Oa01 Data Set',\n",
       " 'Oa01_reflectance#add_offset': '-0.2',\n",
       " 'Oa01_reflectance#long_name': 'Reflectance for OLCI acquisition band Oa01',\n",
       " 'Oa01_reflectance#scale_factor': '1.8311106e-05',\n",
       " 'Oa01_reflectance#_FillValue': '65535'}"
      ]
     },
     "execution_count": 234,
     "metadata": {},
     "output_type": "execute_result"
    }
   ],
   "source": [
    "band.GetMetadata()"
   ]
  },
  {
   "cell_type": "code",
   "execution_count": 236,
   "metadata": {},
   "outputs": [
    {
     "data": {
      "text/plain": [
       "\u001b[1;31mSignature:\u001b[0m \u001b[0mband\u001b[0m\u001b[1;33m.\u001b[0m\u001b[0mSetMetadataItem\u001b[0m\u001b[1;33m(\u001b[0m\u001b[1;33m*\u001b[0m\u001b[0margs\u001b[0m\u001b[1;33m)\u001b[0m\u001b[1;33m\u001b[0m\u001b[1;33m\u001b[0m\u001b[0m\n",
       "\u001b[1;31mSource:\u001b[0m   \n",
       "    \u001b[1;32mdef\u001b[0m \u001b[0mSetMetadataItem\u001b[0m\u001b[1;33m(\u001b[0m\u001b[0mself\u001b[0m\u001b[1;33m,\u001b[0m \u001b[1;33m*\u001b[0m\u001b[0margs\u001b[0m\u001b[1;33m)\u001b[0m\u001b[1;33m:\u001b[0m\u001b[1;33m\n",
       "\u001b[0m        \u001b[1;34m\"\"\"SetMetadataItem(MajorObject self, char const * pszName, char const * pszValue, char const * pszDomain) -> CPLErr\"\"\"\u001b[0m\u001b[1;33m\n",
       "\u001b[0m        \u001b[1;32mreturn\u001b[0m \u001b[0m_gdal\u001b[0m\u001b[1;33m.\u001b[0m\u001b[0mMajorObject_SetMetadataItem\u001b[0m\u001b[1;33m(\u001b[0m\u001b[0mself\u001b[0m\u001b[1;33m,\u001b[0m \u001b[1;33m*\u001b[0m\u001b[0margs\u001b[0m\u001b[1;33m)\u001b[0m\u001b[1;33m\u001b[0m\u001b[1;33m\u001b[0m\u001b[0m\n",
       "\u001b[1;31mFile:\u001b[0m      d:\\programs\\anaconda\\envs\\fastai2_v2\\lib\\site-packages\\osgeo\\gdal.py\n",
       "\u001b[1;31mType:\u001b[0m      method\n"
      ]
     },
     "metadata": {},
     "output_type": "display_data"
    }
   ],
   "source": [
    "band.SetMetadataItem??"
   ]
  },
  {
   "cell_type": "code",
   "execution_count": 237,
   "metadata": {},
   "outputs": [
    {
     "data": {
      "text/plain": [
       "\u001b[1;31mSignature:\u001b[0m \u001b[0mband\u001b[0m\u001b[1;33m.\u001b[0m\u001b[0mSetSpatialRef\u001b[0m\u001b[1;33m(\u001b[0m\u001b[1;33m*\u001b[0m\u001b[0margs\u001b[0m\u001b[1;33m)\u001b[0m\u001b[1;33m\u001b[0m\u001b[1;33m\u001b[0m\u001b[0m\n",
       "\u001b[1;31mDocstring:\u001b[0m SetSpatialRef(Dataset self, SpatialReference srs)\n",
       "\u001b[1;31mFile:\u001b[0m      d:\\programs\\anaconda\\envs\\fastai2_v2\\lib\\site-packages\\osgeo\\gdal.py\n",
       "\u001b[1;31mType:\u001b[0m      method\n"
      ]
     },
     "metadata": {},
     "output_type": "display_data"
    }
   ],
   "source": [
    "band.SetSpatialRef?"
   ]
  },
  {
   "cell_type": "code",
   "execution_count": 239,
   "metadata": {},
   "outputs": [
    {
     "data": {
      "text/plain": [
       "{'NC_GLOBAL#absolute_orbit_number': '19347',\n",
       " 'NC_GLOBAL#ac_subsampling_factor': '64',\n",
       " 'NC_GLOBAL#al_subsampling_factor': '1',\n",
       " 'NC_GLOBAL#comment': ' ',\n",
       " 'NC_GLOBAL#contact': 'ops@eumetsat.int',\n",
       " 'NC_GLOBAL#creation_time': '2019-11-24T13:45:08Z',\n",
       " 'NC_GLOBAL#history': '  2019-11-24T13:45:08Z: PUGCoreProcessor /data/ipf-s3/workdir61/603967849/JobOrder.603967849.xml',\n",
       " 'NC_GLOBAL#institution': 'MAR',\n",
       " 'NC_GLOBAL#netCDF_version': '4.2 of Jul  5 2012 17:07:43 $',\n",
       " 'NC_GLOBAL#product_name': 'S3A_OL_2_WFR____20191104T135002_20191104T135302_20191124T134508_0179_051_124_3060_MAR_O_NT_002.SEN3',\n",
       " 'NC_GLOBAL#references': 'S3IPF PDS 004.3 - i2r2 - Product Data Format Specification - OLCI Level 2 Marine, S3IPF PDS 002 - i1r7 - Product Data Format Specification - Product Structures, S3IPF DPM 008 - i1r3 - Detailed Processing Model - OLCI Level 2',\n",
       " 'NC_GLOBAL#resolution': '[ 270 294 ]',\n",
       " 'NC_GLOBAL#source': 'IPF-OL-2 06.13',\n",
       " 'NC_GLOBAL#start_time': '2019-11-04T13:50:01.882566Z',\n",
       " 'NC_GLOBAL#stop_time': '2019-11-04T13:53:01.847624Z',\n",
       " 'NC_GLOBAL#title': 'OLCI Level 2 WATER Product, Reflectance Oa01 Data Set',\n",
       " 'Oa01_reflectance#add_offset': '-0.2',\n",
       " 'Oa01_reflectance#long_name': 'Reflectance for OLCI acquisition band Oa01',\n",
       " 'Oa01_reflectance#scale_factor': '1.8311106e-05',\n",
       " 'Oa01_reflectance#_FillValue': '65535'}"
      ]
     },
     "execution_count": 239,
     "metadata": {},
     "output_type": "execute_result"
    }
   ],
   "source": [
    "band.GetMetadata()"
   ]
  },
  {
   "cell_type": "code",
   "execution_count": 249,
   "metadata": {},
   "outputs": [
    {
     "data": {
      "text/plain": [
       "0"
      ]
     },
     "execution_count": 249,
     "metadata": {},
     "output_type": "execute_result"
    }
   ],
   "source": [
    "ds.SetMetadataItem('X_BAND', '1', 'GEOLOCATION')\n",
    "ds.SetMetadataItem('y_BAND', '1', 'GEOLOCATION')\n"
   ]
  },
  {
   "cell_type": "code",
   "execution_count": 250,
   "metadata": {},
   "outputs": [
    {
     "data": {
      "text/plain": [
       "{'NC_GLOBAL#absolute_orbit_number': '19347',\n",
       " 'NC_GLOBAL#ac_subsampling_factor': '64',\n",
       " 'NC_GLOBAL#al_subsampling_factor': '1',\n",
       " 'NC_GLOBAL#comment': ' ',\n",
       " 'NC_GLOBAL#contact': 'ops@eumetsat.int',\n",
       " 'NC_GLOBAL#creation_time': '2019-11-24T13:45:08Z',\n",
       " 'NC_GLOBAL#history': '  2019-11-24T13:45:08Z: PUGCoreProcessor /data/ipf-s3/workdir61/603967849/JobOrder.603967849.xml',\n",
       " 'NC_GLOBAL#institution': 'MAR',\n",
       " 'NC_GLOBAL#netCDF_version': '4.2 of Jul  5 2012 17:07:43 $',\n",
       " 'NC_GLOBAL#product_name': 'S3A_OL_2_WFR____20191104T135002_20191104T135302_20191124T134508_0179_051_124_3060_MAR_O_NT_002.SEN3',\n",
       " 'NC_GLOBAL#references': 'S3IPF PDS 004.3 - i2r2 - Product Data Format Specification - OLCI Level 2 Marine, S3IPF PDS 002 - i1r7 - Product Data Format Specification - Product Structures, S3IPF DPM 008 - i1r3 - Detailed Processing Model - OLCI Level 2',\n",
       " 'NC_GLOBAL#resolution': '[ 270 294 ]',\n",
       " 'NC_GLOBAL#source': 'IPF-OL-2 06.13',\n",
       " 'NC_GLOBAL#start_time': '2019-11-04T13:50:01.882566Z',\n",
       " 'NC_GLOBAL#stop_time': '2019-11-04T13:53:01.847624Z',\n",
       " 'NC_GLOBAL#title': 'OLCI Level 2 WATER Product, Reflectance Oa01 Data Set'}"
      ]
     },
     "execution_count": 250,
     "metadata": {},
     "output_type": "execute_result"
    }
   ],
   "source": [
    "ds.GetMetadata()"
   ]
  },
  {
   "cell_type": "code",
   "execution_count": null,
   "metadata": {},
   "outputs": [],
   "source": [
    "gdal.BuildVRT('bar', ds)"
   ]
  },
  {
   "cell_type": "code",
   "execution_count": 10,
   "metadata": {},
   "outputs": [
    {
     "data": {
      "text/plain": [
       "0"
      ]
     },
     "execution_count": 10,
     "metadata": {},
     "output_type": "execute_result"
    }
   ],
   "source": [
    "ds.SetMetadata({\"X_BAND\": \"1\" }, \"GEOLOCATION\")"
   ]
  },
  {
   "cell_type": "code",
   "execution_count": 11,
   "metadata": {},
   "outputs": [
    {
     "data": {
      "text/plain": [
       "{'NC_GLOBAL#absolute_orbit_number': '19347',\n",
       " 'NC_GLOBAL#ac_subsampling_factor': '64',\n",
       " 'NC_GLOBAL#al_subsampling_factor': '1',\n",
       " 'NC_GLOBAL#comment': ' ',\n",
       " 'NC_GLOBAL#contact': 'ops@eumetsat.int',\n",
       " 'NC_GLOBAL#creation_time': '2019-11-24T13:45:08Z',\n",
       " 'NC_GLOBAL#history': '  2019-11-24T13:45:08Z: PUGCoreProcessor /data/ipf-s3/workdir61/603967849/JobOrder.603967849.xml',\n",
       " 'NC_GLOBAL#institution': 'MAR',\n",
       " 'NC_GLOBAL#netCDF_version': '4.2 of Jul  5 2012 17:07:43 $',\n",
       " 'NC_GLOBAL#product_name': 'S3A_OL_2_WFR____20191104T135002_20191104T135302_20191124T134508_0179_051_124_3060_MAR_O_NT_002.SEN3',\n",
       " 'NC_GLOBAL#references': 'S3IPF PDS 004.3 - i2r2 - Product Data Format Specification - OLCI Level 2 Marine, S3IPF PDS 002 - i1r7 - Product Data Format Specification - Product Structures, S3IPF DPM 008 - i1r3 - Detailed Processing Model - OLCI Level 2',\n",
       " 'NC_GLOBAL#resolution': '[ 270 294 ]',\n",
       " 'NC_GLOBAL#source': 'IPF-OL-2 06.13',\n",
       " 'NC_GLOBAL#start_time': '2019-11-04T13:50:01.882566Z',\n",
       " 'NC_GLOBAL#stop_time': '2019-11-04T13:53:01.847624Z',\n",
       " 'NC_GLOBAL#title': 'OLCI Level 2 WATER Product, Reflectance Oa01 Data Set'}"
      ]
     },
     "execution_count": 11,
     "metadata": {},
     "output_type": "execute_result"
    }
   ],
   "source": [
    "ds.GetMetadata()"
   ]
  },
  {
   "cell_type": "code",
   "execution_count": 14,
   "metadata": {},
   "outputs": [],
   "source": [
    "dtype = gdal.GDT_Float32\n",
    "cols = 100\n",
    "rows = 100\n",
    "\n",
    "driver = gdal.GetDriverByName('GTiff')\n",
    "out_raster = driver.Create('D:/temp/temp_raster.tif', cols, rows, 1, dtype, options=['COMPRESS=PACKBITS'])"
   ]
  },
  {
   "cell_type": "code",
   "execution_count": 18,
   "metadata": {},
   "outputs": [
    {
     "data": {
      "text/plain": [
       "0"
      ]
     },
     "execution_count": 18,
     "metadata": {},
     "output_type": "execute_result"
    }
   ],
   "source": [
    "out_raster.SetMetadata({\"X_BAND\": \"1\" }, \"GEOLOCATION\")"
   ]
  },
  {
   "cell_type": "code",
   "execution_count": 17,
   "metadata": {},
   "outputs": [
    {
     "data": {
      "text/plain": [
       "{}"
      ]
     },
     "execution_count": 17,
     "metadata": {},
     "output_type": "execute_result"
    }
   ],
   "source": [
    "out_raster.GetMetadata()"
   ]
  },
  {
   "cell_type": "code",
   "execution_count": 19,
   "metadata": {},
   "outputs": [
    {
     "data": {
      "text/plain": [
       "0"
      ]
     },
     "execution_count": 19,
     "metadata": {},
     "output_type": "execute_result"
    }
   ],
   "source": [
    "out_raster.SetMetadataItem('teste', '3', 'eee')"
   ]
  },
  {
   "cell_type": "code",
   "execution_count": 42,
   "metadata": {},
   "outputs": [],
   "source": [
    "ds = gdal.Open('D:/Images/Download/France-MAJA/SENTINEL2B_20190224-103835-289_L2A_T31TGK_C_V1-0/SENTINEL2B_20190224-103835-289_L2A_T31TGK_C_V1-0_FRE_B12.tif')"
   ]
  },
  {
   "cell_type": "code",
   "execution_count": 43,
   "metadata": {},
   "outputs": [
    {
     "data": {
      "text/plain": [
       "{'AREA_OR_POINT': 'Area',\n",
       " 'gml.root-instance': '<?xml version=\"1.0\" encoding=\"UTF-8\" standalone=\"no\" ?>\\n<gml:FeatureCollection xmlns:gml=\"http://www.opengis.net/gml\" xmlns:xsi=\"http://www.w3.org/2001/XMLSchema-instance\" xsi:schemaLocation=\"http://www.opengeospatial.net/gml http://schemas.opengis.net/gml/3.1.1/profiles/gmlJP2Profile/1.0.0/gmlJP2Profile.xsd\">\\n\\n  <gml:boundedBy>\\n    <gml:Null>withheld</gml:Null>\\n  </gml:boundedBy>\\n\\n  <gml:featureMember>\\n    <gml:FeatureCollection>\\n      <gml:featureMember>\\n        <gml:RectifiedGridCoverage dimension=\"2\" gml:id=\"RGC0001\">\\n          <gml:rectifiedGridDomain>\\n            <gml:RectifiedGrid dimension=\"2\">\\n              <gml:limits>\\n                <gml:GridEnvelope>\\n                  <gml:low>1 1</gml:low>\\n                  <gml:high>5490 5490</gml:high>\\n                </gml:GridEnvelope>\\n              </gml:limits>\\n              <gml:axisName>x</gml:axisName>\\n              <gml:axisName>y</gml:axisName>\\n              <gml:origin>\\n                <gml:Point gml:id=\"P0001\" srsName=\"urn:ogc:def:crs:EPSG::32631\">\\n                  <gml:pos>699970 5000030</gml:pos>\\n                </gml:Point>\\n              </gml:origin>\\n              <gml:offsetVector srsName=\"urn:ogc:def:crs:EPSG::32631\">20 0</gml:offsetVector>\\n              <gml:offsetVector srsName=\"urn:ogc:def:crs:EPSG::32631\">0 -20</gml:offsetVector>\\n            </gml:RectifiedGrid>\\n          </gml:rectifiedGridDomain>\\n          <gml:rangeSet>\\n            <gml:File>\\n              <gml:rangeParameters>\\n                <gml:QuantityExtent uom=\"urn:ogc:def:crs:EPSG::32631\">inapplicable inapplicable</gml:QuantityExtent>\\n              </gml:rangeParameters>\\n              <gml:fileName>gmljp2://codestream/0</gml:fileName>\\n              <gml:fileStructure>Record Interleaved</gml:fileStructure>\\n            </gml:File>\\n          </gml:rangeSet>\\n          <gml:coverageFunction>\\n            <gml:GridFunction>\\n              <gml:sequenceRule order=\"+x-y\">Linear</gml:sequenceRule>\\n              <gml:startPoint>1 5490</gml:startPoint>\\n            </gml:GridFunction>\\n          </gml:coverageFunction>\\n        </gml:RectifiedGridCoverage>\\n      </gml:featureMember>\\n    </gml:FeatureCollection>\\n  </gml:featureMember>\\n\\n</gml:FeatureCollection>\\n'}"
      ]
     },
     "execution_count": 43,
     "metadata": {},
     "output_type": "execute_result"
    }
   ],
   "source": [
    "ds.GetMetadata()"
   ]
  },
  {
   "cell_type": "code",
   "execution_count": 25,
   "metadata": {},
   "outputs": [
    {
     "data": {
      "text/plain": [
       "{'AREA_OR_POINT': 'Area',\n",
       " 'gml.root-instance': '<?xml version=\"1.0\" encoding=\"UTF-8\" standalone=\"no\" ?>\\n<gml:FeatureCollection xmlns:gml=\"http://www.opengis.net/gml\" xmlns:xsi=\"http://www.w3.org/2001/XMLSchema-instance\" xsi:schemaLocation=\"http://www.opengeospatial.net/gml http://schemas.opengis.net/gml/3.1.1/profiles/gmlJP2Profile/1.0.0/gmlJP2Profile.xsd\">\\n\\n  <gml:boundedBy>\\n    <gml:Null>withheld</gml:Null>\\n  </gml:boundedBy>\\n\\n  <gml:featureMember>\\n    <gml:FeatureCollection>\\n      <gml:featureMember>\\n        <gml:RectifiedGridCoverage dimension=\"2\" gml:id=\"RGC0001\">\\n          <gml:rectifiedGridDomain>\\n            <gml:RectifiedGrid dimension=\"2\">\\n              <gml:limits>\\n                <gml:GridEnvelope>\\n                  <gml:low>1 1</gml:low>\\n                  <gml:high>5490 5490</gml:high>\\n                </gml:GridEnvelope>\\n              </gml:limits>\\n              <gml:axisName>x</gml:axisName>\\n              <gml:axisName>y</gml:axisName>\\n              <gml:origin>\\n                <gml:Point gml:id=\"P0001\" srsName=\"urn:ogc:def:crs:EPSG::32631\">\\n                  <gml:pos>699970 5000030</gml:pos>\\n                </gml:Point>\\n              </gml:origin>\\n              <gml:offsetVector srsName=\"urn:ogc:def:crs:EPSG::32631\">20 0</gml:offsetVector>\\n              <gml:offsetVector srsName=\"urn:ogc:def:crs:EPSG::32631\">0 -20</gml:offsetVector>\\n            </gml:RectifiedGrid>\\n          </gml:rectifiedGridDomain>\\n          <gml:rangeSet>\\n            <gml:File>\\n              <gml:rangeParameters>\\n                <gml:QuantityExtent uom=\"urn:ogc:def:crs:EPSG::32631\">inapplicable inapplicable</gml:QuantityExtent>\\n              </gml:rangeParameters>\\n              <gml:fileName>gmljp2://codestream/0</gml:fileName>\\n              <gml:fileStructure>Record Interleaved</gml:fileStructure>\\n            </gml:File>\\n          </gml:rangeSet>\\n          <gml:coverageFunction>\\n            <gml:GridFunction>\\n              <gml:sequenceRule order=\"+x-y\">Linear</gml:sequenceRule>\\n              <gml:startPoint>1 5490</gml:startPoint>\\n            </gml:GridFunction>\\n          </gml:coverageFunction>\\n        </gml:RectifiedGridCoverage>\\n      </gml:featureMember>\\n    </gml:FeatureCollection>\\n  </gml:featureMember>\\n\\n</gml:FeatureCollection>\\n'}"
      ]
     },
     "execution_count": 25,
     "metadata": {},
     "output_type": "execute_result"
    }
   ],
   "source": [
    "ds.GetMetadata()"
   ]
  },
  {
   "cell_type": "code",
   "execution_count": 56,
   "metadata": {},
   "outputs": [
    {
     "data": {
      "text/plain": [
       "['IMAGE_STRUCTURE', '', 'GEOLOCATION', 'DERIVED_SUBDATASETS']"
      ]
     },
     "execution_count": 56,
     "metadata": {},
     "output_type": "execute_result"
    }
   ],
   "source": [
    "ds.GetMetadataDomainList()"
   ]
  },
  {
   "cell_type": "code",
   "execution_count": 62,
   "metadata": {},
   "outputs": [
    {
     "data": {
      "text/plain": [
       "{'X_BAND': '1'}"
      ]
     },
     "execution_count": 62,
     "metadata": {},
     "output_type": "execute_result"
    }
   ],
   "source": [
    "ds.GetMetadata_Dict()"
   ]
  },
  {
   "cell_type": "code",
   "execution_count": 63,
   "metadata": {},
   "outputs": [
    {
     "data": {
      "text/plain": [
       "0"
      ]
     },
     "execution_count": 63,
     "metadata": {},
     "output_type": "execute_result"
    }
   ],
   "source": [
    "ds.SetMetadata({\"X_BAND\": \"1\" }, '')"
   ]
  },
  {
   "cell_type": "code",
   "execution_count": 60,
   "metadata": {},
   "outputs": [
    {
     "data": {
      "text/plain": [
       "{'X_BAND': '1'}"
      ]
     },
     "execution_count": 60,
     "metadata": {},
     "output_type": "execute_result"
    }
   ],
   "source": [
    "ds.GetMetadata('GEOLOCATION')"
   ]
  },
  {
   "cell_type": "code",
   "execution_count": 61,
   "metadata": {},
   "outputs": [
    {
     "data": {
      "text/plain": [
       "{'X_BAND': '1'}"
      ]
     },
     "execution_count": 61,
     "metadata": {},
     "output_type": "execute_result"
    }
   ],
   "source": [
    "ds.GetMetadata()"
   ]
  },
  {
   "cell_type": "code",
   "execution_count": 51,
   "metadata": {},
   "outputs": [
    {
     "data": {
      "text/plain": [
       "{}"
      ]
     },
     "execution_count": 51,
     "metadata": {},
     "output_type": "execute_result"
    }
   ],
   "source": [
    "gdal.BuildVRT('', ds)"
   ]
  },
  {
   "cell_type": "code",
   "execution_count": 38,
   "metadata": {},
   "outputs": [
    {
     "data": {
      "text/plain": [
       "<osgeo.gdal.Dataset; proxy of <Swig Object of type 'GDALDatasetShadow *' at 0x000001891D041930> >"
      ]
     },
     "execution_count": 38,
     "metadata": {},
     "output_type": "execute_result"
    }
   ],
   "source": [
    "gdal."
   ]
  },
  {
   "cell_type": "code",
   "execution_count": 40,
   "metadata": {},
   "outputs": [
    {
     "data": {
      "text/plain": [
       "{}"
      ]
     },
     "execution_count": 40,
     "metadata": {},
     "output_type": "execute_result"
    }
   ],
   "source": [
    "ds.GetMetadata('GEOLOCATION')"
   ]
  },
  {
   "cell_type": "code",
   "execution_count": 64,
   "metadata": {},
   "outputs": [],
   "source": [
    "gdal.BuildVRT('d:/test.vrt', ds).FlushCache()\n"
   ]
  },
  {
   "cell_type": "code",
   "execution_count": 58,
   "metadata": {},
   "outputs": [
    {
     "data": {
      "text/plain": [
       "['IMAGE_STRUCTURE', '', 'GEOLOCATION', 'DERIVED_SUBDATASETS']"
      ]
     },
     "execution_count": 58,
     "metadata": {},
     "output_type": "execute_result"
    }
   ],
   "source": [
    "ds.GetMetadataDomainList()"
   ]
  },
  {
   "cell_type": "code",
   "execution_count": 66,
   "metadata": {},
   "outputs": [],
   "source": [
    "geo = gdal.Open(str(path/'geo_coordinates.nc'))"
   ]
  },
  {
   "cell_type": "code",
   "execution_count": 67,
   "metadata": {},
   "outputs": [
    {
     "data": {
      "text/plain": [
       "512"
      ]
     },
     "execution_count": 67,
     "metadata": {},
     "output_type": "execute_result"
    }
   ],
   "source": [
    "geo.RasterXSize"
   ]
  },
  {
   "cell_type": "code",
   "execution_count": 68,
   "metadata": {},
   "outputs": [
    {
     "data": {
      "text/plain": [
       "512"
      ]
     },
     "execution_count": 68,
     "metadata": {},
     "output_type": "execute_result"
    }
   ],
   "source": [
    "geo.RasterYSize"
   ]
  },
  {
   "cell_type": "code",
   "execution_count": null,
   "metadata": {},
   "outputs": [],
   "source": []
  },
  {
   "cell_type": "code",
   "execution_count": null,
   "metadata": {},
   "outputs": [],
   "source": []
  },
  {
   "cell_type": "code",
   "execution_count": null,
   "metadata": {},
   "outputs": [],
   "source": []
  },
  {
   "cell_type": "code",
   "execution_count": 133,
   "metadata": {},
   "outputs": [],
   "source": [
    "import os\n",
    "import sys\n",
    "import shutil\n",
    "import math\n",
    "import subprocess as sub\n",
    "from osgeo import gdal, osr\n",
    "from netCDF4 import Dataset\n",
    "# from basic_functions.callCmd import callCmd\n",
    "import pdb"
   ]
  },
  {
   "cell_type": "code",
   "execution_count": 142,
   "metadata": {},
   "outputs": [
    {
     "name": "stdout",
     "output_type": "stream",
     "text": [
      "Retrieving coordinates...\n"
     ]
    }
   ],
   "source": [
    "input_dir = str(path)\n",
    "output_dir = str(path/'output.tif')\n",
    "instrument = 'OLCI'\n",
    "\n",
    "tempdir = os.path.join(input_dir, 'tmp')\n",
    "# if os.path.exists(tempdir):\n",
    "#     shutil.rmtree(tempdir)\n",
    "# os.mkdir(tempdir)\n",
    "print('Retrieving coordinates...')\n",
    "if instrument == 'OLCI':\n",
    "    BANDNAMES = ['Oa{0}_radiance'.format(str(i).zfill(2)) for i in range(1, 22)]  # range(1, 22)\n",
    "    nc_coords = os.path.join(input_dir, 'geo_coordinates.nc')\n",
    "    ds_nc = Dataset(nc_coords, 'r')\n",
    "    coords = (ds_nc.variables['latitude'], ds_nc.variables['longitude'])\n",
    "elif instrument == 'SLSTR':\n",
    "    BANDNAMES = ['S{0}_radiance_an'.format(str(i).zfill(1)) for i in range(1, 7)]  # range(1, 10)\n",
    "    BANDNAMES = BANDNAMES + ['S{0}_BT_in'.format(str(i).zfill(1)) for i in range(7, 10)]  # range(1, 10)\n",
    "    BANDNAMES = BANDNAMES + ['F{0}_BT_in'.format(str(i).zfill(1)) for i in range(1, 3)]  # range(1, 10)\n",
    "    nc_coords = os.path.join(input_dir, 'geodetic_an.nc')\n",
    "    ds_nc = Dataset(nc_coords, 'r')\n",
    "    coords = (ds_nc.variables['latitude_an'], ds_nc.variables['longitude_an'])\n",
    "else:\n",
    "    print('Wrong instrument indicator! Must be either \"OLCI\" or \"SLSTR\"!')"
   ]
  },
  {
   "cell_type": "code",
   "execution_count": 143,
   "metadata": {},
   "outputs": [],
   "source": [
    "lat_tif = os.path.join(tempdir, coords[0].name + '.tif')\n",
    "lon_tif = os.path.join(tempdir, coords[1].name + '.tif')\n",
    "rad_tifs = []\n",
    "nc_paths = [os.path.join(input_dir, band + '.nc') for band in BANDNAMES]"
   ]
  },
  {
   "cell_type": "code",
   "execution_count": 144,
   "metadata": {},
   "outputs": [],
   "source": [
    "# get lat/lon\n",
    "for v, var in enumerate(coords):\n",
    "    \n",
    "    # _FillValue attr not found. Get the nodata value based on the minimum value for the dtype (workaround)\n",
    "#     nodata = np.iinfo(var.dtype).min+1\n",
    "    \n",
    "    scale = var.scale_factor\n",
    "    var_vrt = os.path.join(tempdir, var.name + '.vrt')\n",
    "    var_tif = os.path.join(tempdir, var.name + '.tif')\n",
    "    cmd = ['gdalbuildvrt', '-sd', str(1 + var._varid), '-separate', '-overwrite', var_vrt, nc_coords]\n",
    "    sub.call(cmd)\n",
    "    # edit vrt\n",
    "    with open(var_vrt, 'r') as f:\n",
    "        xml = f.readlines()\n",
    "    for line in xml:\n",
    "        if '<VRTRasterBand ' in line:\n",
    "            head_index = xml.index(line) + 1\n",
    "        if '<DstRect xOff' in line:\n",
    "            tail_index = xml.index(line) + 1\n",
    "#     xml.insert(head_index, '    <NoDataValue>{nd}</NoDataValue>\\n'.format(nd=nodata))\n",
    "    xml.insert(head_index + 1, '    <Scale>{sc}</Scale>\\n'.format(sc=scale))\n",
    "    tail_index = tail_index + 2\n",
    "#     xml.insert(tail_index, '      <NODATA>{nd}</NODATA>\\n'.format(nd=nodata))\n",
    "    xml.insert(tail_index + 2, '    <Offset>0.0</Offset>\\n')\n",
    "    xml.insert(tail_index + 3, '    <Scale>{sc}</Scale>\\n'.format(sc=scale))\n",
    "    xml = [line.replace('=\"Int32', '=\"Float32') for line in xml]\n",
    "    with open(var_vrt, 'w') as f:\n",
    "        f.writelines(xml)\n",
    "    # write to temporary tif\n",
    "#     cmd = ['gdal_translate', '-unscale', var_vrt, var_tif]\n",
    "#     sub.call(cmd)\n",
    "ds_nc.close()\n",
    "\n",
    "    "
   ]
  },
  {
   "cell_type": "code",
   "execution_count": null,
   "metadata": {},
   "outputs": [],
   "source": [
    "# aqui já temos os VRTs das coordenadas (não vou criar os TIFs... não faria sentido)\n"
   ]
  },
  {
   "cell_type": "code",
   "execution_count": 151,
   "metadata": {},
   "outputs": [],
   "source": [
    "n = 0; nc = nc_paths[0]\n",
    "nc = 'D:/Images/Download/Sentinel3/S3A_OL_2_WFR____20191104T135002_20191104T135302_20191124T134508_0179_051_124_3060_MAR_O_NT_002.SEN3/Oa01_reflectance.nc'"
   ]
  },
  {
   "cell_type": "code",
   "execution_count": 152,
   "metadata": {},
   "outputs": [],
   "source": [
    "ds_nc = Dataset(nc, 'r')"
   ]
  },
  {
   "cell_type": "code",
   "execution_count": 153,
   "metadata": {},
   "outputs": [],
   "source": [
    "var = ds_nc.variables[os.path.basename(nc)[:-3]]"
   ]
  },
  {
   "cell_type": "code",
   "execution_count": 154,
   "metadata": {},
   "outputs": [
    {
     "data": {
      "text/plain": [
       "<class 'netCDF4._netCDF4.Variable'>\n",
       "uint16 Oa01_reflectance(rows, columns)\n",
       "    _FillValue: 65535\n",
       "    add_offset: -0.2\n",
       "    long_name: Reflectance for OLCI acquisition band Oa01\n",
       "    scale_factor: 1.8311106e-05\n",
       "unlimited dimensions: \n",
       "current shape = (4091, 4865)\n",
       "filling on"
      ]
     },
     "execution_count": 154,
     "metadata": {},
     "output_type": "execute_result"
    }
   ],
   "source": [
    "var"
   ]
  },
  {
   "cell_type": "code",
   "execution_count": 156,
   "metadata": {},
   "outputs": [
    {
     "data": {
      "text/plain": [
       "4091"
      ]
     },
     "execution_count": 156,
     "metadata": {},
     "output_type": "execute_result"
    }
   ],
   "source": [
    "nodata = var._FillValue\n",
    "offset = var.add_offset\n",
    "rows = var.shape[0]\n",
    "scale = var.scale_factor\n",
    "ds_nc.close()\n",
    "rows"
   ]
  },
  {
   "cell_type": "code",
   "execution_count": 158,
   "metadata": {},
   "outputs": [
    {
     "data": {
      "text/plain": [
       "('D:\\\\Images\\\\Download\\\\Sentinel3\\\\S3A_OL_2_WFR____20191104T135002_20191104T135302_20191124T134508_0179_051_124_3060_MAR_O_NT_002.SEN3\\\\tmp\\\\data.vrt',\n",
       " 'D:\\\\Images\\\\Download\\\\Sentinel3\\\\S3A_OL_2_WFR____20191104T135002_20191104T135302_20191124T134508_0179_051_124_3060_MAR_O_NT_002.SEN3\\\\tmp\\\\Oa01_reflectance.vrt')"
      ]
     },
     "execution_count": 158,
     "metadata": {},
     "output_type": "execute_result"
    }
   ],
   "source": [
    "data_vrt = os.path.join(tempdir, 'data.vrt')\n",
    "data_vrt_tif = data_vrt.replace('.vrt', '.tif')\n",
    "out_vrt = os.path.join(tempdir, os.path.basename(nc)[:-3] + '.vrt')\n",
    "out_tif = out_vrt.replace('.vrt', '.tif')\n",
    "data_vrt, out_vrt"
   ]
  },
  {
   "cell_type": "code",
   "execution_count": 159,
   "metadata": {},
   "outputs": [
    {
     "data": {
      "text/plain": [
       "0"
      ]
     },
     "execution_count": 159,
     "metadata": {},
     "output_type": "execute_result"
    }
   ],
   "source": [
    "sub.call(['gdalbuildvrt', '-sd', '1', '-separate', '-overwrite', data_vrt, nc])"
   ]
  },
  {
   "cell_type": "code",
   "execution_count": 163,
   "metadata": {},
   "outputs": [
    {
     "data": {
      "text/plain": [
       "'D:\\\\Images\\\\Download\\\\Sentinel3\\\\S3A_OL_2_WFR____20191104T135002_20191104T135302_20191124T134508_0179_051_124_3060_MAR_O_NT_002.SEN3\\\\tmp\\\\longitude.tif'"
      ]
     },
     "execution_count": 163,
     "metadata": {},
     "output_type": "execute_result"
    }
   ],
   "source": [
    "lon_tif"
   ]
  },
  {
   "cell_type": "code",
   "execution_count": 165,
   "metadata": {},
   "outputs": [],
   "source": [
    "out_vrt = 'D:\\\\Images\\\\Download\\\\Sentinel3\\\\S3A_OL_2_WFR____20191104T135002_20191104T135302_20191124T134508_0179_051_124_3060_MAR_O_NT_002.SEN3\\\\tmp\\\\output.vrt'"
   ]
  },
  {
   "cell_type": "code",
   "execution_count": 168,
   "metadata": {},
   "outputs": [],
   "source": [
    "cmd = ['gdalwarp', '-t_srs', 'epsg:4326', '-geoloc', '-srcnodata', str(nodata), '-dstnodata', '-9999', out_vrt,\n",
    "        out_tif]"
   ]
  },
  {
   "cell_type": "code",
   "execution_count": 172,
   "metadata": {},
   "outputs": [
    {
     "data": {
      "text/plain": [
       "65535"
      ]
     },
     "execution_count": 172,
     "metadata": {},
     "output_type": "execute_result"
    }
   ],
   "source": [
    "nodata"
   ]
  },
  {
   "cell_type": "code",
   "execution_count": 171,
   "metadata": {},
   "outputs": [
    {
     "data": {
      "text/plain": [
       "'D:\\\\Images\\\\Download\\\\Sentinel3\\\\S3A_OL_2_WFR____20191104T135002_20191104T135302_20191124T134508_0179_051_124_3060_MAR_O_NT_002.SEN3\\\\tmp\\\\Oa01_reflectance.tif'"
      ]
     },
     "execution_count": 171,
     "metadata": {},
     "output_type": "execute_result"
    }
   ],
   "source": [
    "out_tif"
   ]
  },
  {
   "cell_type": "code",
   "execution_count": 175,
   "metadata": {},
   "outputs": [
    {
     "data": {
      "text/plain": [
       "0"
      ]
     },
     "execution_count": 175,
     "metadata": {},
     "output_type": "execute_result"
    }
   ],
   "source": [
    "# write to temporary tif, then build a new vrt\n",
    "cmd = ['gdal_translate', '-unscale', data_vrt, data_vrt_tif]\n",
    "sub.call(cmd)"
   ]
  },
  {
   "cell_type": "code",
   "execution_count": 177,
   "metadata": {},
   "outputs": [
    {
     "data": {
      "text/plain": [
       "0"
      ]
     },
     "execution_count": 177,
     "metadata": {},
     "output_type": "execute_result"
    }
   ],
   "source": [
    "# update GeoTransform\n",
    "ds = gdal.Open(data_vrt_tif, gdal.GA_Update)\n",
    "ds.SetGeoTransform((0.0, 1.0, 0.0, float(rows), 0.0, -1.0))\n",
    "ds.FlushCache()\n",
    "# build new vrt\n",
    "cmd = ['gdalbuildvrt', '-sd', '1', '-separate', '-overwrite', out_vrt, data_vrt_tif]\n",
    "sub.call(cmd)"
   ]
  },
  {
   "cell_type": "code",
   "execution_count": 176,
   "metadata": {},
   "outputs": [
    {
     "data": {
      "text/plain": [
       "'D:\\\\Images\\\\Download\\\\Sentinel3\\\\S3A_OL_2_WFR____20191104T135002_20191104T135302_20191124T134508_0179_051_124_3060_MAR_O_NT_002.SEN3\\\\tmp\\\\output.vrt'"
      ]
     },
     "execution_count": 176,
     "metadata": {},
     "output_type": "execute_result"
    }
   ],
   "source": [
    "out_vrt"
   ]
  },
  {
   "cell_type": "code",
   "execution_count": 76,
   "metadata": {},
   "outputs": [],
   "source": [
    "    # single bands to vrt, then to tif\n",
    "    print('Converting all {n} bands...'.format(n=len(BANDNAMES)))\n",
    "    for n, nc in enumerate(nc_paths):\n",
    "        print('\\t... BAND {b}'.format(b=n+1))\n",
    "        ds_nc = Dataset(nc, 'r')\n",
    "        var = ds_nc.variables[os.path.basename(nc)[:-3]]\n",
    "        \n",
    "        # _FillValue attr not found. Get the nodata value based on the minimum value for the dtype (workaround)\n",
    "        nodata = var._FillValue\n",
    "        offset = var.add_offset\n",
    "        rows = var.shape[0]\n",
    "        scale = var.scale_factor\n",
    "        ds_nc.close()\n",
    "        data_vrt = os.path.join(tempdir, 'data.vrt')\n",
    "        data_vrt_tif = data_vrt.replace('.vrt', '.tif')\n",
    "        out_vrt = os.path.join(tempdir, os.path.basename(nc)[:-3] + '.vrt')\n",
    "        out_tif = out_vrt.replace('.vrt', '.tif')\n",
    "        if instrument == 'OLCI':\n",
    "            cmd = ['gdalbuildvrt', '-sd', '1', '-separate', '-overwrite', data_vrt, nc]\n",
    "        else:\n",
    "            if os.path.basename(nc).endswith('BT_in.nc'):\n",
    "                cmd = ['gdalbuildvrt', '-sd', '1', '-separate', '-overwrite', data_vrt, nc]\n",
    "            else:\n",
    "                cmd = ['gdalbuildvrt', '-sd', '3', '-separate', '-overwrite', data_vrt, nc]\n",
    "        sub.call(cmd)\n",
    "        # edit vrt\n",
    "        with open(data_vrt, 'r') as f:\n",
    "            xml = f.readlines()\n",
    "        for line in xml:\n",
    "            if '<VRTRasterBand ' in line:\n",
    "                head_index = xml.index(line)\n",
    "            if '<DstRect xOff' in line:\n",
    "                tail_index = xml.index(line) + 1\n",
    "        xml[head_index] = '  <VRTRasterBand dataType=\"Float32\" band=\"1\">\\n'\n",
    "        xml.insert(head_index + 1, '    <NoDataValue>{nd}</NoDataValue>\\n'.format(nd=nodata))\n",
    "        xml[head_index + 2] = '    <ComplexSource>\\n'\n",
    "        xml[head_index + 5] = xml[head_index + 5].replace('DataType=\"UInt16\"', 'DataType=\"Float32\"')\n",
    "        tail_index = tail_index + 1\n",
    "        xml.insert(tail_index, '      <NODATA>{nd}</NODATA>\\n'.format(nd=nodata))\n",
    "        xml[tail_index + 1] = '    </ComplexSource>\\n'\n",
    "        xml.insert(tail_index + 2, '    <Offset>{off}</Offset>\\n'.format(off=offset))\n",
    "        xml.insert(tail_index + 3, '    <Scale>{sc}</Scale>\\n'.format(sc=scale))\n",
    "        with open(data_vrt, 'w') as f:\n",
    "            f.writelines(xml)\n",
    "        # write to temporary tif, then build a new vrt\n",
    "        cmd = ['gdal_translate', '-unscale', data_vrt, data_vrt_tif]\n",
    "        sub.call(cmd)\n",
    "        # update GeoTransform\n",
    "        ds = gdal.Open(data_vrt_tif, gdal.GA_Update)\n",
    "        ds.SetGeoTransform((0.0, 1.0, 0.0, float(rows), 0.0, -1.0))\n",
    "        ds.FlushCache()\n",
    "        # build new vrt\n",
    "        cmd = ['gdalbuildvrt', '-sd', '1', '-separate', '-overwrite', out_vrt, data_vrt_tif]\n",
    "        sub.call(cmd)\n",
    "        # edit vrt\n",
    "        with open(out_vrt, 'r') as f:\n",
    "            xml = f.readlines()\n",
    "        for line in xml:\n",
    "            if '<VRTRasterBand ' in line:\n",
    "                head_index = xml.index(line)\n",
    "                break\n",
    "        xml[head_index] = '  <VRTRasterBand dataType=\"Float32\" band=\"1\">\\n'\n",
    "        xml.insert(-1, '''  <metadata domain=\"GEOLOCATION\">\n",
    "    <mdi key=\"X_DATASET\">{lon}</mdi>\n",
    "    <mdi key=\"X_BAND\">1</mdi>\n",
    "    <mdi key=\"Y_DATASET\">{lat}</mdi>\n",
    "    <mdi key=\"Y_BAND\">1</mdi>\n",
    "    <mdi key=\"PIXEL_OFFSET\">0</mdi>\n",
    "    <mdi key=\"LINE_OFFSET\">0</mdi>\n",
    "    <mdi key=\"PIXEL_STEP\">1</mdi>\n",
    "    <mdi key=\"LINE_STEP\">1</mdi>\n",
    "  </metadata>\\n'''.format(lon=lon_tif, lat=lat_tif))\n",
    "        for line in xml:\n",
    "            if os.sep in line:\n",
    "                xml[xml.index(line)] = line.replace(os.sep, '/')\n",
    "        with open(out_vrt, 'w') as f:\n",
    "            f.writelines(xml)\n",
    "        # convert to tif\n",
    "        cmd = ['gdalwarp', '-t_srs', 'epsg:4326', '-geoloc', '-srcnodata', str(nodata), '-dstnodata', '-9999', out_vrt,\n",
    "               out_tif]\n",
    "        sub.call(cmd)\n",
    "        # remove temp files safely\n",
    "        os.remove(out_vrt)\n",
    "        ds = gdal.Open(data_vrt_tif, gdal.GA_ReadOnly)\n",
    "        ds = None\n",
    "        os.remove(data_vrt_tif)\n",
    "        rad_tifs.append(out_tif)\n",
    "    # stack together\n",
    "    print('Stacking bands...')\n",
    "    if 'win' in sys.platform.lower():\n",
    "        gdal_path = r'c:\\Program Files\\GDAL'\n",
    "    else:\n",
    "        gdal_path = r'/usr/bin'\n",
    "    gdal_merge = os.path.join(gdal_path, 'gdal_merge.py')\n",
    "    stack = os.path.join(tempdir, 'stack.tif')\n",
    "    cmd = ['python', gdal_merge, '-separate', '-n', '-9999', '-o', stack]\n",
    "    for r in rad_tifs:\n",
    "        cmd.append(r)\n",
    "    if os.path.exists(output_image):\n",
    "        drv = gdal.GetDriverByName(outformat)\n",
    "        drv.Delete(output_image)\n",
    "    sub.call(cmd)\n",
    "    if to_utm is True:\n",
    "        epsg = calculateUtmZone(stack)\n",
    "        print('Reprojecting to UTM (EPSG: {e})'.format(e=epsg))\n",
    "        cmd = ['gdalwarp', '-of', outformat, '-srcnodata', '-9999', '-dstnodata', '-9999', '-overwrite',\n",
    "               '-t_srs', 'epsg:{e}'.format(e=str(epsg)), '-tr', str(outres), str(outres), stack, output_image]\n",
    "        sub.call(cmd)\n",
    "    else:\n",
    "        if not outformat == 'GTiff':\n",
    "            print('Converting to {of}...'.format(of=outformat))\n",
    "            cmd = ['gdal_translate', '-of', outformat, '-a_nodata', '-9999', stack, output_image]\n",
    "            if outformat == 'ENVI':\n",
    "                cmd.append('-co')\n",
    "                cmd.append('interleave=bil')\n",
    "            elif outformat == 'GTiff':\n",
    "                cmd.append('-co')\n",
    "                cmd.append('compress=lzw')\n",
    "                sub.call(cmd)\n",
    "    print('Cleaning up...')\n",
    "    shutil.rmtree(tempdir)\n",
    "    print('Done!')"
   ]
  },
  {
   "cell_type": "code",
   "execution_count": 77,
   "metadata": {},
   "outputs": [
    {
     "name": "stdout",
     "output_type": "stream",
     "text": [
      "Retrieving coordinates...\n",
      "> <ipython-input-76-5f74bfaae14e>(9)s3netcdf2other()\n",
      "-> BANDNAMES = ['Oa{0}_radiance'.format(str(i).zfill(2)) for i in range(1, 22)]  # range(1, 22)\n"
     ]
    },
    {
     "name": "stdin",
     "output_type": "stream",
     "text": [
      "(Pdb)  l\n"
     ]
    },
    {
     "name": "stdout",
     "output_type": "stream",
     "text": [
      "  4  \t        shutil.rmtree(tempdir)\n",
      "  5  \t    os.mkdir(tempdir)\n",
      "  6  \t    print('Retrieving coordinates...')\n",
      "  7  \t    if instrument == 'OLCI':\n",
      "  8  \t        pdb.set_trace()\n",
      "  9  ->\t        BANDNAMES = ['Oa{0}_radiance'.format(str(i).zfill(2)) for i in range(1, 22)]  # range(1, 22)\n",
      " 10  \t        nc_coords = os.path.join(input_dir, 'geo_coordinates.nc')\n",
      " 11  \t        ds_nc = Dataset(nc_coords, 'r')\n",
      " 12  \t        coords = (ds_nc.variables['latitude'], ds_nc.variables['longitude'])\n",
      " 13  \t    elif instrument == 'SLSTR':\n",
      " 14  \t        BANDNAMES = ['S{0}_radiance_an'.format(str(i).zfill(1)) for i in range(1, 7)]  # range(1, 10)\n"
     ]
    },
    {
     "name": "stdin",
     "output_type": "stream",
     "text": [
      "(Pdb)  n\n"
     ]
    },
    {
     "name": "stdout",
     "output_type": "stream",
     "text": [
      "> <ipython-input-76-5f74bfaae14e>(10)s3netcdf2other()\n",
      "-> nc_coords = os.path.join(input_dir, 'geo_coordinates.nc')\n"
     ]
    },
    {
     "name": "stdin",
     "output_type": "stream",
     "text": [
      "(Pdb)  BANDNAMES\n"
     ]
    },
    {
     "name": "stdout",
     "output_type": "stream",
     "text": [
      "['Oa01_radiance', 'Oa02_radiance', 'Oa03_radiance', 'Oa04_radiance', 'Oa05_radiance', 'Oa06_radiance', 'Oa07_radiance', 'Oa08_radiance', 'Oa09_radiance', 'Oa10_radiance', 'Oa11_radiance', 'Oa12_radiance', 'Oa13_radiance', 'Oa14_radiance', 'Oa15_radiance', 'Oa16_radiance', 'Oa17_radiance', 'Oa18_radiance', 'Oa19_radiance', 'Oa20_radiance', 'Oa21_radiance']\n"
     ]
    },
    {
     "name": "stdin",
     "output_type": "stream",
     "text": [
      "(Pdb)  N\n"
     ]
    },
    {
     "name": "stdout",
     "output_type": "stream",
     "text": [
      "*** NameError: name 'N' is not defined\n"
     ]
    },
    {
     "name": "stdin",
     "output_type": "stream",
     "text": [
      "(Pdb)  n\n"
     ]
    },
    {
     "name": "stdout",
     "output_type": "stream",
     "text": [
      "> <ipython-input-76-5f74bfaae14e>(11)s3netcdf2other()\n",
      "-> ds_nc = Dataset(nc_coords, 'r')\n"
     ]
    },
    {
     "name": "stdin",
     "output_type": "stream",
     "text": [
      "(Pdb)  q\n"
     ]
    },
    {
     "ename": "BdbQuit",
     "evalue": "",
     "output_type": "error",
     "traceback": [
      "\u001b[1;31m---------------------------------------------------------------------------\u001b[0m",
      "\u001b[1;31mBdbQuit\u001b[0m                                   Traceback (most recent call last)",
      "\u001b[1;32m<ipython-input-77-55f79a03328b>\u001b[0m in \u001b[0;36m<module>\u001b[1;34m\u001b[0m\n\u001b[1;32m----> 1\u001b[1;33m \u001b[0ms3netcdf2other\u001b[0m\u001b[1;33m(\u001b[0m\u001b[0mstr\u001b[0m\u001b[1;33m(\u001b[0m\u001b[0mpath\u001b[0m\u001b[1;33m)\u001b[0m\u001b[1;33m,\u001b[0m \u001b[0mstr\u001b[0m\u001b[1;33m(\u001b[0m\u001b[0mpath\u001b[0m\u001b[1;33m/\u001b[0m\u001b[1;34m'output.tif'\u001b[0m\u001b[1;33m)\u001b[0m\u001b[1;33m)\u001b[0m\u001b[1;33m\u001b[0m\u001b[1;33m\u001b[0m\u001b[0m\n\u001b[0m",
      "\u001b[1;32m<ipython-input-76-5f74bfaae14e>\u001b[0m in \u001b[0;36ms3netcdf2other\u001b[1;34m(input_dir, output_image, instrument, outformat, to_utm, outres)\u001b[0m\n\u001b[0;32m      9\u001b[0m         \u001b[0mBANDNAMES\u001b[0m \u001b[1;33m=\u001b[0m \u001b[1;33m[\u001b[0m\u001b[1;34m'Oa{0}_radiance'\u001b[0m\u001b[1;33m.\u001b[0m\u001b[0mformat\u001b[0m\u001b[1;33m(\u001b[0m\u001b[0mstr\u001b[0m\u001b[1;33m(\u001b[0m\u001b[0mi\u001b[0m\u001b[1;33m)\u001b[0m\u001b[1;33m.\u001b[0m\u001b[0mzfill\u001b[0m\u001b[1;33m(\u001b[0m\u001b[1;36m2\u001b[0m\u001b[1;33m)\u001b[0m\u001b[1;33m)\u001b[0m \u001b[1;32mfor\u001b[0m \u001b[0mi\u001b[0m \u001b[1;32min\u001b[0m \u001b[0mrange\u001b[0m\u001b[1;33m(\u001b[0m\u001b[1;36m1\u001b[0m\u001b[1;33m,\u001b[0m \u001b[1;36m22\u001b[0m\u001b[1;33m)\u001b[0m\u001b[1;33m]\u001b[0m  \u001b[1;31m# range(1, 22)\u001b[0m\u001b[1;33m\u001b[0m\u001b[1;33m\u001b[0m\u001b[0m\n\u001b[0;32m     10\u001b[0m         \u001b[0mnc_coords\u001b[0m \u001b[1;33m=\u001b[0m \u001b[0mos\u001b[0m\u001b[1;33m.\u001b[0m\u001b[0mpath\u001b[0m\u001b[1;33m.\u001b[0m\u001b[0mjoin\u001b[0m\u001b[1;33m(\u001b[0m\u001b[0minput_dir\u001b[0m\u001b[1;33m,\u001b[0m \u001b[1;34m'geo_coordinates.nc'\u001b[0m\u001b[1;33m)\u001b[0m\u001b[1;33m\u001b[0m\u001b[1;33m\u001b[0m\u001b[0m\n\u001b[1;32m---> 11\u001b[1;33m         \u001b[0mds_nc\u001b[0m \u001b[1;33m=\u001b[0m \u001b[0mDataset\u001b[0m\u001b[1;33m(\u001b[0m\u001b[0mnc_coords\u001b[0m\u001b[1;33m,\u001b[0m \u001b[1;34m'r'\u001b[0m\u001b[1;33m)\u001b[0m\u001b[1;33m\u001b[0m\u001b[1;33m\u001b[0m\u001b[0m\n\u001b[0m\u001b[0;32m     12\u001b[0m         \u001b[0mcoords\u001b[0m \u001b[1;33m=\u001b[0m \u001b[1;33m(\u001b[0m\u001b[0mds_nc\u001b[0m\u001b[1;33m.\u001b[0m\u001b[0mvariables\u001b[0m\u001b[1;33m[\u001b[0m\u001b[1;34m'latitude'\u001b[0m\u001b[1;33m]\u001b[0m\u001b[1;33m,\u001b[0m \u001b[0mds_nc\u001b[0m\u001b[1;33m.\u001b[0m\u001b[0mvariables\u001b[0m\u001b[1;33m[\u001b[0m\u001b[1;34m'longitude'\u001b[0m\u001b[1;33m]\u001b[0m\u001b[1;33m)\u001b[0m\u001b[1;33m\u001b[0m\u001b[1;33m\u001b[0m\u001b[0m\n\u001b[0;32m     13\u001b[0m     \u001b[1;32melif\u001b[0m \u001b[0minstrument\u001b[0m \u001b[1;33m==\u001b[0m \u001b[1;34m'SLSTR'\u001b[0m\u001b[1;33m:\u001b[0m\u001b[1;33m\u001b[0m\u001b[1;33m\u001b[0m\u001b[0m\n",
      "\u001b[1;32m<ipython-input-76-5f74bfaae14e>\u001b[0m in \u001b[0;36ms3netcdf2other\u001b[1;34m(input_dir, output_image, instrument, outformat, to_utm, outres)\u001b[0m\n\u001b[0;32m      9\u001b[0m         \u001b[0mBANDNAMES\u001b[0m \u001b[1;33m=\u001b[0m \u001b[1;33m[\u001b[0m\u001b[1;34m'Oa{0}_radiance'\u001b[0m\u001b[1;33m.\u001b[0m\u001b[0mformat\u001b[0m\u001b[1;33m(\u001b[0m\u001b[0mstr\u001b[0m\u001b[1;33m(\u001b[0m\u001b[0mi\u001b[0m\u001b[1;33m)\u001b[0m\u001b[1;33m.\u001b[0m\u001b[0mzfill\u001b[0m\u001b[1;33m(\u001b[0m\u001b[1;36m2\u001b[0m\u001b[1;33m)\u001b[0m\u001b[1;33m)\u001b[0m \u001b[1;32mfor\u001b[0m \u001b[0mi\u001b[0m \u001b[1;32min\u001b[0m \u001b[0mrange\u001b[0m\u001b[1;33m(\u001b[0m\u001b[1;36m1\u001b[0m\u001b[1;33m,\u001b[0m \u001b[1;36m22\u001b[0m\u001b[1;33m)\u001b[0m\u001b[1;33m]\u001b[0m  \u001b[1;31m# range(1, 22)\u001b[0m\u001b[1;33m\u001b[0m\u001b[1;33m\u001b[0m\u001b[0m\n\u001b[0;32m     10\u001b[0m         \u001b[0mnc_coords\u001b[0m \u001b[1;33m=\u001b[0m \u001b[0mos\u001b[0m\u001b[1;33m.\u001b[0m\u001b[0mpath\u001b[0m\u001b[1;33m.\u001b[0m\u001b[0mjoin\u001b[0m\u001b[1;33m(\u001b[0m\u001b[0minput_dir\u001b[0m\u001b[1;33m,\u001b[0m \u001b[1;34m'geo_coordinates.nc'\u001b[0m\u001b[1;33m)\u001b[0m\u001b[1;33m\u001b[0m\u001b[1;33m\u001b[0m\u001b[0m\n\u001b[1;32m---> 11\u001b[1;33m         \u001b[0mds_nc\u001b[0m \u001b[1;33m=\u001b[0m \u001b[0mDataset\u001b[0m\u001b[1;33m(\u001b[0m\u001b[0mnc_coords\u001b[0m\u001b[1;33m,\u001b[0m \u001b[1;34m'r'\u001b[0m\u001b[1;33m)\u001b[0m\u001b[1;33m\u001b[0m\u001b[1;33m\u001b[0m\u001b[0m\n\u001b[0m\u001b[0;32m     12\u001b[0m         \u001b[0mcoords\u001b[0m \u001b[1;33m=\u001b[0m \u001b[1;33m(\u001b[0m\u001b[0mds_nc\u001b[0m\u001b[1;33m.\u001b[0m\u001b[0mvariables\u001b[0m\u001b[1;33m[\u001b[0m\u001b[1;34m'latitude'\u001b[0m\u001b[1;33m]\u001b[0m\u001b[1;33m,\u001b[0m \u001b[0mds_nc\u001b[0m\u001b[1;33m.\u001b[0m\u001b[0mvariables\u001b[0m\u001b[1;33m[\u001b[0m\u001b[1;34m'longitude'\u001b[0m\u001b[1;33m]\u001b[0m\u001b[1;33m)\u001b[0m\u001b[1;33m\u001b[0m\u001b[1;33m\u001b[0m\u001b[0m\n\u001b[0;32m     13\u001b[0m     \u001b[1;32melif\u001b[0m \u001b[0minstrument\u001b[0m \u001b[1;33m==\u001b[0m \u001b[1;34m'SLSTR'\u001b[0m\u001b[1;33m:\u001b[0m\u001b[1;33m\u001b[0m\u001b[1;33m\u001b[0m\u001b[0m\n",
      "\u001b[1;32mD:\\Programs\\anaconda\\envs\\fastai2_v2\\lib\\bdb.py\u001b[0m in \u001b[0;36mtrace_dispatch\u001b[1;34m(self, frame, event, arg)\u001b[0m\n\u001b[0;32m     86\u001b[0m             \u001b[1;32mreturn\u001b[0m \u001b[1;31m# None\u001b[0m\u001b[1;33m\u001b[0m\u001b[1;33m\u001b[0m\u001b[0m\n\u001b[0;32m     87\u001b[0m         \u001b[1;32mif\u001b[0m \u001b[0mevent\u001b[0m \u001b[1;33m==\u001b[0m \u001b[1;34m'line'\u001b[0m\u001b[1;33m:\u001b[0m\u001b[1;33m\u001b[0m\u001b[1;33m\u001b[0m\u001b[0m\n\u001b[1;32m---> 88\u001b[1;33m             \u001b[1;32mreturn\u001b[0m \u001b[0mself\u001b[0m\u001b[1;33m.\u001b[0m\u001b[0mdispatch_line\u001b[0m\u001b[1;33m(\u001b[0m\u001b[0mframe\u001b[0m\u001b[1;33m)\u001b[0m\u001b[1;33m\u001b[0m\u001b[1;33m\u001b[0m\u001b[0m\n\u001b[0m\u001b[0;32m     89\u001b[0m         \u001b[1;32mif\u001b[0m \u001b[0mevent\u001b[0m \u001b[1;33m==\u001b[0m \u001b[1;34m'call'\u001b[0m\u001b[1;33m:\u001b[0m\u001b[1;33m\u001b[0m\u001b[1;33m\u001b[0m\u001b[0m\n\u001b[0;32m     90\u001b[0m             \u001b[1;32mreturn\u001b[0m \u001b[0mself\u001b[0m\u001b[1;33m.\u001b[0m\u001b[0mdispatch_call\u001b[0m\u001b[1;33m(\u001b[0m\u001b[0mframe\u001b[0m\u001b[1;33m,\u001b[0m \u001b[0marg\u001b[0m\u001b[1;33m)\u001b[0m\u001b[1;33m\u001b[0m\u001b[1;33m\u001b[0m\u001b[0m\n",
      "\u001b[1;32mD:\\Programs\\anaconda\\envs\\fastai2_v2\\lib\\bdb.py\u001b[0m in \u001b[0;36mdispatch_line\u001b[1;34m(self, frame)\u001b[0m\n\u001b[0;32m    111\u001b[0m         \u001b[1;32mif\u001b[0m \u001b[0mself\u001b[0m\u001b[1;33m.\u001b[0m\u001b[0mstop_here\u001b[0m\u001b[1;33m(\u001b[0m\u001b[0mframe\u001b[0m\u001b[1;33m)\u001b[0m \u001b[1;32mor\u001b[0m \u001b[0mself\u001b[0m\u001b[1;33m.\u001b[0m\u001b[0mbreak_here\u001b[0m\u001b[1;33m(\u001b[0m\u001b[0mframe\u001b[0m\u001b[1;33m)\u001b[0m\u001b[1;33m:\u001b[0m\u001b[1;33m\u001b[0m\u001b[1;33m\u001b[0m\u001b[0m\n\u001b[0;32m    112\u001b[0m             \u001b[0mself\u001b[0m\u001b[1;33m.\u001b[0m\u001b[0muser_line\u001b[0m\u001b[1;33m(\u001b[0m\u001b[0mframe\u001b[0m\u001b[1;33m)\u001b[0m\u001b[1;33m\u001b[0m\u001b[1;33m\u001b[0m\u001b[0m\n\u001b[1;32m--> 113\u001b[1;33m             \u001b[1;32mif\u001b[0m \u001b[0mself\u001b[0m\u001b[1;33m.\u001b[0m\u001b[0mquitting\u001b[0m\u001b[1;33m:\u001b[0m \u001b[1;32mraise\u001b[0m \u001b[0mBdbQuit\u001b[0m\u001b[1;33m\u001b[0m\u001b[1;33m\u001b[0m\u001b[0m\n\u001b[0m\u001b[0;32m    114\u001b[0m         \u001b[1;32mreturn\u001b[0m \u001b[0mself\u001b[0m\u001b[1;33m.\u001b[0m\u001b[0mtrace_dispatch\u001b[0m\u001b[1;33m\u001b[0m\u001b[1;33m\u001b[0m\u001b[0m\n\u001b[0;32m    115\u001b[0m \u001b[1;33m\u001b[0m\u001b[0m\n",
      "\u001b[1;31mBdbQuit\u001b[0m: "
     ]
    }
   ],
   "source": [
    "s3netcdf2other("
   ]
  },
  {
   "cell_type": "code",
   "execution_count": null,
   "metadata": {},
   "outputs": [],
   "source": []
  }
 ],
 "metadata": {
  "kernelspec": {
   "display_name": "Python 3",
   "language": "python",
   "name": "python3"
  },
  "language_info": {
   "codemirror_mode": {
    "name": "ipython",
    "version": 3
   },
   "file_extension": ".py",
   "mimetype": "text/x-python",
   "name": "python",
   "nbconvert_exporter": "python",
   "pygments_lexer": "ipython3",
   "version": "3.6.10"
  }
 },
 "nbformat": 4,
 "nbformat_minor": 4
}
