{
 "cells": [
  {
   "cell_type": "code",
   "execution_count": null,
   "id": "d8ec4b1b-2272-47e2-a4dd-ee4b11f4e3ab",
   "metadata": {},
   "outputs": [],
   "source": [
    "import os\n",
    "from pathlib import Path\n",
    "from datetime import date\n",
    "from sentinelsat import SentinelAPI, read_geojson, geojson_to_wkt"
   ]
  },
  {
   "cell_type": "markdown",
   "id": "a1f01bfb-732d-4337-a24f-2ce819ffa8f6",
   "metadata": {},
   "source": [
    "## SETUP wget.exe"
   ]
  },
  {
   "cell_type": "code",
   "execution_count": null,
   "id": "99befb68-3bcd-4147-8ca8-d5c8f0646456",
   "metadata": {},
   "outputs": [],
   "source": [
    "wgetpath = Path(os.getcwd() + '/wget.exe')\n",
    "print(wgetpath)\n",
    "if wgetpath.exists():\n",
    "    print('wget.exe is present in current folder.')\n",
    "else:\n",
    "    print('wget.exe not found, fix it before runing the code below.')"
   ]
  },
  {
   "cell_type": "markdown",
   "id": "904ebd14-5709-46a6-8f77-d03ce26afa61",
   "metadata": {},
   "source": [
    "## USER CREDENTIALS"
   ]
  },
  {
   "cell_type": "code",
   "execution_count": null,
   "id": "d45c7f84-d146-4b01-a10c-fce71f53bb2c",
   "metadata": {},
   "outputs": [],
   "source": [
    "# connect to the API\n",
    "# https://sentinelsat.readthedocs.io/en/stable/api.html\n",
    "\n",
    "copernicus = 'https://scihub.copernicus.eu/dhus'\n",
    "eumetsat = 'https://coda.eumetsat.int' # L2_WFR rolling archive for the last 12 months.\n",
    "# eumetsat = 'https://codarep.eumetsat.int/'\n",
    "\n",
    "url = eumetsat # enable for WFR\n",
    "\n",
    "user = 'youruser'\n",
    "password = 'yourpass'\n",
    "\n",
    "api = SentinelAPI(user, password, url)"
   ]
  },
  {
   "cell_type": "code",
   "execution_count": null,
   "id": "a43dec5d-78b0-467b-8e44-9389d0c4a84d",
   "metadata": {},
   "outputs": [],
   "source": [
    "# Path where to save files in your machine\n",
    "path2save_imgs = Path('D:\\\\S3DLT')\n",
    "path2save_imgs"
   ]
  },
  {
   "cell_type": "code",
   "execution_count": null,
   "id": "969a36f5-de88-4735-8a4f-5efe71664d81",
   "metadata": {},
   "outputs": [],
   "source": [
    "# private functions to dynamicaly build the wget download query\n",
    "\n",
    "# LFR - COAH/Copernicus\n",
    "def _buildQueryCopernicus(row):\n",
    "    uuid = row['uuid']\n",
    "    prod_name = row['identifier']\n",
    "    wget = f'{wgetpath} -O \"{path2save_imgs}\\\\{prod_name}.zip\" --continue --no-check-certificate --user={user} --password={password} \"https://scihub.copernicus.eu/apihub/odata/v1/Products(\\'{uuid}\\')/$value\"'\n",
    "    return wget\n",
    "\n",
    "# WFR - CODA/eumetsat\n",
    "def _buildQueryEumetsat(row):\n",
    "    uuid = row['uuid']\n",
    "    prod_name = row['identifier']\n",
    "    wget = f'{wgetpath} -O \"{path2save_imgs}\\\\{prod_name}.zip\" --no-check-certificate --user={user} --password={password} \"http://coda.eumetsat.int/odata/v1/Products(\\'{uuid}\\')/$value\"'\n",
    "    return wget"
   ]
  },
  {
   "cell_type": "code",
   "execution_count": null,
   "id": "d1d632ed-0020-4342-a3ce-ed21ea9e8770",
   "metadata": {},
   "outputs": [],
   "source": [
    "# OPTIONAL\n",
    "# JSON = 'd:\\/git-repos\\/s3-frbr\\/amz_manacapuru.json'\n",
    "\n",
    "# search by polygon, time, and SciHub query keywords\n",
    "# footprint = geojson_to_wkt(read_geojson(JSON))"
   ]
  },
  {
   "cell_type": "code",
   "execution_count": null,
   "id": "22017fb4-54d9-4af1-8e93-10d33f8e2021",
   "metadata": {},
   "outputs": [],
   "source": [
    "## L2_WFR - florent rio solimões\n",
    "products = api.query(\n",
    "    footprint='Intersects(POLYGON ((-80.53802490234375 22.186769188065732, -80.56411743164062 22.16483221148838, -80.47039031982422 22.067823457478664, -80.38352966308594 22.05414144887237, -80.40103912353516 22.11808550556902, -80.44292449951172 22.16356039773344, -80.48755645751953 22.18645128532019, -80.53802490234375 22.186769188065732)))',\n",
    "    date=('20210629', date(2022, 6, 29)),  # day + 1\n",
    "    platformname='Sentinel-3',\n",
    "    filename='S3?_OL_2_WFR*',\n",
    "    timeliness='Non Time Critical',\n",
    "    # raw='footprint:\"Intersects(POLYGON ((-65.7641589517219 -2.6151263096657 0,-65.7524481609865 -2.61778217383069 0,-65.7462434442559 -2.60430743613057 0,-65.753367002201 -2.59898995617844 0,-65.7632643349048 -2.60517702580467 0,-65.7641589517219 -2.6151263096657 0)))\"'\n",
    "    # raw='footprint:\"Intersects(POLYGON((-60.509069928849534 -3.2626561486855366,-60.51241630560453 -3.398512248234084,-60.65965688282487 -3.386263700982525,-60.79239649410683 -3.6234118961110795,-60.92848248214382 -3.677958469621373,-61.04895204532409 -3.6723926448251945,-61.06122209342579 -3.513195570510689,-60.857093111370325 -3.5187623671484403,-60.76451002114844 -3.3450629082099255,-60.68196606119159 -3.265997095821632,-60.603883936908076 -3.2548605621996387,-60.509069928849534 -3.2626561486855366,-60.509069928849534 -3.2626561486855366)))\"'\n",
    "    # raw='footprint:\"Intersects(POLYGON((-60.55399361680608 -3.2745035752850242,-60.55399361680608 -3.654179275522381,-61.01690906791547 -3.656405654932769,-61.01802452683382 -3.271162656476122,-60.55399361680608 -3.2745035752850242,-60.55399361680608 -3.2745035752850242)))\"'\n",
    ")\n",
    "\n",
    "# # L1_EFR\n",
    "# products = api.query(\n",
    "#     # footprint,\n",
    "#     date=('20180501', date(2018, 6, 1)), # day + 1\n",
    "#     platformname='Sentinel-3',\n",
    "#     producttype='OL_1_EFR___',\n",
    "#     # filename='S3?_OL_2_*',\n",
    "#     # cloudcoverpercentage=(0, 30)\n",
    "#     timeliness='Non Time Critical',\n",
    "#     raw='footprint:\"Intersects(POLYGON((-60.58496475219726 -3.3432664216192993, -60.549087524414055 -3.3432664216192993, -60.549087524414055 -3.3107057310886976, -60.58496475219726 -3.3107057310886976, -60.58496475219726 -3.3432664216192993)))\"'\n",
    "# )\n",
    "\n",
    "# raw footprint wkt from:\n",
    "# http://geojson.io/#map=13/-3.3366/-60.5650"
   ]
  },
  {
   "cell_type": "code",
   "execution_count": null,
   "id": "d88c4c6f-c097-4095-a273-d4ac7e1895c5",
   "metadata": {},
   "outputs": [],
   "source": [
    "# convert query result to Pandas DataFrame\n",
    "products_df = api.to_dataframe(products)\n",
    "\n",
    "# =============================================================================\n",
    "# filename = MMM_OL_L_TTTTTT_yyyymmddThhmmss_YYYYMMDDTHHMMSS_YYYYMMDDTHHMMSS_[instance ID]_GGG_[class ID].SEN3\n",
    "# source: https://sentinel.esa.int/web/sentinel/user-guides/sentinel-3-olci/naming-convention\n",
    "# =============================================================================\n",
    "# Scihub Copernicus Products Retention Policy\n",
    "# https://scihub.copernicus.eu/userguide/LongTermArchive\n",
    "# ============================================================================="
   ]
  },
  {
   "cell_type": "code",
   "execution_count": null,
   "id": "f9d3a0ab-2057-4299-a88b-59e5d9f924f7",
   "metadata": {},
   "outputs": [],
   "source": [
    "# iterate over products dataframe rows, building the download query\n",
    "if 'url' in globals():\n",
    "    queries = products_df.apply(_buildQueryEumetsat, axis=1)\n",
    "else:\n",
    "    queries = products_df.apply(_buildQueryCopernicus, axis=1)"
   ]
  },
  {
   "cell_type": "code",
   "execution_count": null,
   "id": "c93db467-6831-47a2-adb5-ce8c48b3de3a",
   "metadata": {},
   "outputs": [],
   "source": [
    "total = queries.shape[0]"
   ]
  },
  {
   "cell_type": "code",
   "execution_count": null,
   "id": "43abf6fd-3e3d-43b1-9ff1-d4adca0e3f4d",
   "metadata": {},
   "outputs": [],
   "source": [
    "os.system(f'echo =========================')\n",
    "os.system(f'echo total number of files: {total}\\n')\n",
    "os.system(f'echo =========================\\n\\n')\n",
    "\n",
    "for i, result in enumerate(queries):\n",
    "    file_name = products_df.iloc[i]['identifier']\n",
    "    print(f'echo attempting to download image {i+1}/{total}... {file_name}\\n')\n",
    "    # os.system(f'echo attempting to download image {i+1}/{total}... {file_name}\\n')\n",
    "    os.system(result)"
   ]
  },
  {
   "cell_type": "code",
   "execution_count": null,
   "id": "e3ae5dc0-f303-4e26-9de3-d8a89abc43b7",
   "metadata": {},
   "outputs": [],
   "source": []
  }
 ],
 "metadata": {
  "kernelspec": {
   "display_name": "Python 3 (ipykernel)",
   "language": "python",
   "name": "python3"
  },
  "language_info": {
   "codemirror_mode": {
    "name": "ipython",
    "version": 3
   },
   "file_extension": ".py",
   "mimetype": "text/x-python",
   "name": "python",
   "nbconvert_exporter": "python",
   "pygments_lexer": "ipython3",
   "version": "3.9.7"
  }
 },
 "nbformat": 4,
 "nbformat_minor": 5
}
